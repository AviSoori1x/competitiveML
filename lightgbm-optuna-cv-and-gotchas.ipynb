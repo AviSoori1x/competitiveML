{
 "cells": [
  {
   "cell_type": "markdown",
   "metadata": {
    "papermill": {
     "duration": 0.012428,
     "end_time": "2021-03-01T20:41:44.357725",
     "exception": false,
     "start_time": "2021-03-01T20:41:44.345297",
     "status": "completed"
    },
    "tags": []
   },
   "source": [
    "LightGBM is a really convenient to use, fast to train and usually accurate implementation of boosted trees. Here I use optuna for hyperparameter search using Bayesian optimization methods, with 5-fold cross validation, to gain a fairly accurate model. Also I leverage some seemingly minor but very useful built in features of the LightGBM library to handle categorical variables."
   ]
  },
  {
   "cell_type": "code",
   "execution_count": 1,
   "metadata": {
    "_cell_guid": "b1076dfc-b9ad-4769-8c92-a6c4dae69d19",
    "_uuid": "8f2839f25d086af736a60e9eeb907d3b93b6e0e5",
    "execution": {
     "iopub.execute_input": "2021-03-01T20:41:44.388270Z",
     "iopub.status.busy": "2021-03-01T20:41:44.387351Z",
     "iopub.status.idle": "2021-03-01T20:41:46.565889Z",
     "shell.execute_reply": "2021-03-01T20:41:46.566441Z"
    },
    "papermill": {
     "duration": 2.19763,
     "end_time": "2021-03-01T20:41:46.566836",
     "exception": false,
     "start_time": "2021-03-01T20:41:44.369206",
     "status": "completed"
    },
    "tags": []
   },
   "outputs": [
    {
     "data": {
      "text/html": [
       "<style type='text/css'>\n",
       ".datatable table.frame { margin-bottom: 0; }\n",
       ".datatable table.frame thead { border-bottom: none; }\n",
       ".datatable table.frame tr.coltypes td {  color: #FFFFFF;  line-height: 6px;  padding: 0 0.5em;}\n",
       ".datatable .bool    { background: #DDDD99; }\n",
       ".datatable .object  { background: #565656; }\n",
       ".datatable .int     { background: #5D9E5D; }\n",
       ".datatable .float   { background: #4040CC; }\n",
       ".datatable .str     { background: #CC4040; }\n",
       ".datatable .row_index {  background: var(--jp-border-color3);  border-right: 1px solid var(--jp-border-color0);  color: var(--jp-ui-font-color3);  font-size: 9px;}\n",
       ".datatable .frame tr.coltypes .row_index {  background: var(--jp-border-color0);}\n",
       ".datatable th:nth-child(2) { padding-left: 12px; }\n",
       ".datatable .hellipsis {  color: var(--jp-cell-editor-border-color);}\n",
       ".datatable .vellipsis {  background: var(--jp-layout-color0);  color: var(--jp-cell-editor-border-color);}\n",
       ".datatable .na {  color: var(--jp-cell-editor-border-color);  font-size: 80%;}\n",
       ".datatable .footer { font-size: 9px; }\n",
       ".datatable .frame_dimensions {  background: var(--jp-border-color3);  border-top: 1px solid var(--jp-border-color0);  color: var(--jp-ui-font-color3);  display: inline-block;  opacity: 0.6;  padding: 1px 10px 1px 5px;}\n",
       "</style>\n"
      ],
      "text/plain": [
       "<IPython.core.display.HTML object>"
      ]
     },
     "metadata": {},
     "output_type": "display_data"
    },
    {
     "name": "stdout",
     "output_type": "stream",
     "text": [
      "/kaggle/input/tabular-playground-series-mar-2021/sample_submission.csv\n",
      "/kaggle/input/tabular-playground-series-mar-2021/train.csv\n",
      "/kaggle/input/tabular-playground-series-mar-2021/test.csv\n"
     ]
    }
   ],
   "source": [
    "##Import the required packages. These include pandas, numpy,scikit-learn and optuna\n",
    "\n",
    "import numpy as np # linear algebra\n",
    "import pandas as pd # data processing, CSV file I/O (e.g. pd.read_csv)\n",
    "from sklearn.model_selection import KFold\n",
    "import optuna\n",
    "import optuna.integration.lightgbm as lgb\n",
    "\n",
    "\n",
    "import os\n",
    "for dirname, _, filenames in os.walk('/kaggle/input'):\n",
    "    for filename in filenames:\n",
    "        print(os.path.join(dirname, filename))"
   ]
  },
  {
   "cell_type": "markdown",
   "metadata": {
    "papermill": {
     "duration": 0.012155,
     "end_time": "2021-03-01T20:41:46.592505",
     "exception": false,
     "start_time": "2021-03-01T20:41:46.580350",
     "status": "completed"
    },
    "tags": []
   },
   "source": [
    "Read the train and test csv's into variables and list out the column names"
   ]
  },
  {
   "cell_type": "code",
   "execution_count": 2,
   "metadata": {
    "execution": {
     "iopub.execute_input": "2021-03-01T20:41:46.623517Z",
     "iopub.status.busy": "2021-03-01T20:41:46.622509Z",
     "iopub.status.idle": "2021-03-01T20:41:50.739946Z",
     "shell.execute_reply": "2021-03-01T20:41:50.739353Z"
    },
    "papermill": {
     "duration": 4.135098,
     "end_time": "2021-03-01T20:41:50.740092",
     "exception": false,
     "start_time": "2021-03-01T20:41:46.604994",
     "status": "completed"
    },
    "tags": []
   },
   "outputs": [
    {
     "data": {
      "text/plain": [
       "['id',\n",
       " 'cat0',\n",
       " 'cat1',\n",
       " 'cat2',\n",
       " 'cat3',\n",
       " 'cat4',\n",
       " 'cat5',\n",
       " 'cat6',\n",
       " 'cat7',\n",
       " 'cat8',\n",
       " 'cat9',\n",
       " 'cat10',\n",
       " 'cat11',\n",
       " 'cat12',\n",
       " 'cat13',\n",
       " 'cat14',\n",
       " 'cat15',\n",
       " 'cat16',\n",
       " 'cat17',\n",
       " 'cat18',\n",
       " 'cont0',\n",
       " 'cont1',\n",
       " 'cont2',\n",
       " 'cont3',\n",
       " 'cont4',\n",
       " 'cont5',\n",
       " 'cont6',\n",
       " 'cont7',\n",
       " 'cont8',\n",
       " 'cont9',\n",
       " 'cont10',\n",
       " 'target']"
      ]
     },
     "execution_count": 2,
     "metadata": {},
     "output_type": "execute_result"
    }
   ],
   "source": [
    "train = pd.read_csv('/kaggle/input/tabular-playground-series-mar-2021/train.csv')\n",
    "test = pd.read_csv('/kaggle/input/tabular-playground-series-mar-2021/test.csv')\n",
    "\n",
    "train.columns.to_list()"
   ]
  },
  {
   "cell_type": "markdown",
   "metadata": {
    "papermill": {
     "duration": 0.013088,
     "end_time": "2021-03-01T20:41:50.766723",
     "exception": false,
     "start_time": "2021-03-01T20:41:50.753635",
     "status": "completed"
    },
    "tags": []
   },
   "source": [
    "Convert the categorical data into the category type such that lightgbm can handle the categorical variables. Unless you leverage learned embeddings for categorical variables, this fares better that one hot encoding or label encoding"
   ]
  },
  {
   "cell_type": "code",
   "execution_count": 3,
   "metadata": {
    "execution": {
     "iopub.execute_input": "2021-03-01T20:41:50.815505Z",
     "iopub.status.busy": "2021-03-01T20:41:50.814126Z",
     "iopub.status.idle": "2021-03-01T20:41:52.221187Z",
     "shell.execute_reply": "2021-03-01T20:41:52.220604Z"
    },
    "papermill": {
     "duration": 1.441944,
     "end_time": "2021-03-01T20:41:52.221361",
     "exception": false,
     "start_time": "2021-03-01T20:41:50.779417",
     "status": "completed"
    },
    "tags": []
   },
   "outputs": [],
   "source": [
    "conts = ['cont0','cont1','cont2','cont3','cont4','cont5','cont6','cont7','cont8','cont9','cont10']\n",
    "cats = ['cat0','cat1','cat2','cat3','cat4','cat5','cat6','cat7','cat8','cat9','cat10','cat11','cat12','cat13','cat14','cat15','cat16','cat17','cat18','target']\n",
    "for c in train.columns:\n",
    "    col_type = train[c].dtype\n",
    "    if col_type == 'object' or col_type.name == 'category':\n",
    "        train[c] = train[c].astype('category')\n",
    "\n",
    "for c in test.columns:\n",
    "    col_type = test[c].dtype\n",
    "    if col_type == 'object' or col_type.name == 'category':\n",
    "        test[c] = test[c].astype('category')"
   ]
  },
  {
   "cell_type": "markdown",
   "metadata": {
    "papermill": {
     "duration": 0.012827,
     "end_time": "2021-03-01T20:41:52.247209",
     "exception": false,
     "start_time": "2021-03-01T20:41:52.234382",
     "status": "completed"
    },
    "tags": []
   },
   "source": [
    "Specify dependent and independent variables and create a lgb Dataset object"
   ]
  },
  {
   "cell_type": "code",
   "execution_count": 4,
   "metadata": {
    "execution": {
     "iopub.execute_input": "2021-03-01T20:41:52.288829Z",
     "iopub.status.busy": "2021-03-01T20:41:52.288065Z",
     "iopub.status.idle": "2021-03-01T20:41:52.291321Z",
     "shell.execute_reply": "2021-03-01T20:41:52.290712Z"
    },
    "papermill": {
     "duration": 0.031265,
     "end_time": "2021-03-01T20:41:52.291470",
     "exception": false,
     "start_time": "2021-03-01T20:41:52.260205",
     "status": "completed"
    },
    "tags": []
   },
   "outputs": [],
   "source": [
    "X= train[['cont0','cont1','cont2','cont3','cont4','cont5','cont6','cont7','cont8','cont9','cont10','cat0','cat1','cat2','cat3','cat4','cat5','cat6','cat7','cat8','cat9','cat10','cat11','cat12','cat13','cat14','cat15','cat16','cat17','cat18']]\n",
    "Y = train[['target']]"
   ]
  },
  {
   "cell_type": "markdown",
   "metadata": {
    "papermill": {
     "duration": 0.013064,
     "end_time": "2021-03-01T20:41:52.318003",
     "exception": false,
     "start_time": "2021-03-01T20:41:52.304939",
     "status": "completed"
    },
    "tags": []
   },
   "source": [
    "Use the optuna lightGBM integration to do hyperparamater optimization with 5 fold cross validation. Make sure to pass in the argument 'auto' for categorical_feature for automated feature engineering for categorical input features."
   ]
  },
  {
   "cell_type": "code",
   "execution_count": 5,
   "metadata": {
    "execution": {
     "iopub.execute_input": "2021-03-01T20:41:52.351741Z",
     "iopub.status.busy": "2021-03-01T20:41:52.350763Z",
     "iopub.status.idle": "2021-03-01T20:41:52.353503Z",
     "shell.execute_reply": "2021-03-01T20:41:52.354206Z"
    },
    "papermill": {
     "duration": 0.022801,
     "end_time": "2021-03-01T20:41:52.354394",
     "exception": false,
     "start_time": "2021-03-01T20:41:52.331593",
     "status": "completed"
    },
    "tags": []
   },
   "outputs": [],
   "source": [
    "from sklearn.model_selection import StratifiedKFold\n",
    "kfolds = StratifiedKFold(n_splits=5, shuffle=True, random_state=42)"
   ]
  },
  {
   "cell_type": "markdown",
   "metadata": {
    "papermill": {
     "duration": 0.013201,
     "end_time": "2021-03-01T20:41:52.380906",
     "exception": false,
     "start_time": "2021-03-01T20:41:52.367705",
     "status": "completed"
    },
    "tags": []
   },
   "source": [
    "Notice how I've specified auc as the metric."
   ]
  },
  {
   "cell_type": "code",
   "execution_count": 6,
   "metadata": {
    "execution": {
     "iopub.execute_input": "2021-03-01T20:41:52.412324Z",
     "iopub.status.busy": "2021-03-01T20:41:52.411343Z",
     "iopub.status.idle": "2021-03-01T23:33:55.850395Z",
     "shell.execute_reply": "2021-03-01T23:33:55.849532Z"
    },
    "papermill": {
     "duration": 10323.455902,
     "end_time": "2021-03-01T23:33:55.850645",
     "exception": false,
     "start_time": "2021-03-01T20:41:52.394743",
     "status": "completed"
    },
    "tags": []
   },
   "outputs": [
    {
     "name": "stderr",
     "output_type": "stream",
     "text": [
      "\u001b[32m[I 2021-03-01 20:41:52,415]\u001b[0m A new study created in memory with name: no-name-92d6c35c-c991-489f-a2bd-e3394118cf66\u001b[0m\n",
      "feature_fraction, val_score: -inf:   0%|          | 0/7 [00:00<?, ?it/s]"
     ]
    },
    {
     "name": "stdout",
     "output_type": "stream",
     "text": [
      "[100]\tcv_agg's auc: 0.892008 + 0.00103649\n",
      "[200]\tcv_agg's auc: 0.893159 + 0.00104752\n",
      "[300]\tcv_agg's auc: 0.893393 + 0.000974532\n",
      "[400]\tcv_agg's auc: 0.893529 + 0.000856763\n",
      "[500]\tcv_agg's auc: 0.89352 + 0.000842855\n",
      "[600]\tcv_agg's auc: 0.893431 + 0.000780106\n",
      "[700]\tcv_agg's auc: 0.89331 + 0.000789088\n",
      "[800]\tcv_agg's auc: 0.893118 + 0.000825148\n",
      "[900]\tcv_agg's auc: 0.892949 + 0.000867973\n",
      "[1000]\tcv_agg's auc: 0.892746 + 0.000884992\n"
     ]
    },
    {
     "name": "stderr",
     "output_type": "stream",
     "text": [
      "feature_fraction, val_score: 0.893550:  14%|#4        | 1/7 [01:58<11:48, 118.14s/it]\u001b[32m[I 2021-03-01 20:43:50,566]\u001b[0m Trial 0 finished with value: 0.8935497608075945 and parameters: {'feature_fraction': 0.4}. Best is trial 0 with value: 0.8935497608075945.\u001b[0m\n",
      "feature_fraction, val_score: 0.893550:  14%|#4        | 1/7 [01:58<11:48, 118.14s/it]"
     ]
    },
    {
     "name": "stdout",
     "output_type": "stream",
     "text": [
      "[100]\tcv_agg's auc: 0.891533 + 0.000866496\n",
      "[200]\tcv_agg's auc: 0.892522 + 0.000915965\n",
      "[300]\tcv_agg's auc: 0.892623 + 0.000856064\n",
      "[400]\tcv_agg's auc: 0.892501 + 0.000911613\n",
      "[500]\tcv_agg's auc: 0.89234 + 0.000904109\n",
      "[600]\tcv_agg's auc: 0.892118 + 0.000948539\n",
      "[700]\tcv_agg's auc: 0.891841 + 0.000917707\n",
      "[800]\tcv_agg's auc: 0.891497 + 0.000939116\n",
      "[900]\tcv_agg's auc: 0.891255 + 0.000944222\n",
      "[1000]\tcv_agg's auc: 0.890921 + 0.000923366\n"
     ]
    },
    {
     "name": "stderr",
     "output_type": "stream",
     "text": [
      "feature_fraction, val_score: 0.893550:  29%|##8       | 2/7 [03:39<09:00, 108.02s/it]\u001b[32m[I 2021-03-01 20:45:31,502]\u001b[0m Trial 1 finished with value: 0.8926599825502478 and parameters: {'feature_fraction': 0.7}. Best is trial 0 with value: 0.8935497608075945.\u001b[0m\n",
      "feature_fraction, val_score: 0.893550:  29%|##8       | 2/7 [03:39<09:00, 108.02s/it]"
     ]
    },
    {
     "name": "stdout",
     "output_type": "stream",
     "text": [
      "[100]\tcv_agg's auc: 0.891995 + 0.0010501\n",
      "[200]\tcv_agg's auc: 0.893003 + 0.00117562\n",
      "[300]\tcv_agg's auc: 0.893135 + 0.00117131\n",
      "[400]\tcv_agg's auc: 0.893228 + 0.00118093\n",
      "[500]\tcv_agg's auc: 0.893114 + 0.00110731\n",
      "[600]\tcv_agg's auc: 0.892945 + 0.00108859\n",
      "[700]\tcv_agg's auc: 0.892714 + 0.00107721\n",
      "[800]\tcv_agg's auc: 0.892495 + 0.00106578\n",
      "[900]\tcv_agg's auc: 0.892252 + 0.00106892\n",
      "[1000]\tcv_agg's auc: 0.892013 + 0.00108799\n"
     ]
    },
    {
     "name": "stderr",
     "output_type": "stream",
     "text": [
      "feature_fraction, val_score: 0.893550:  43%|####2     | 3/7 [05:41<07:39, 114.82s/it]\u001b[32m[I 2021-03-01 20:47:34,418]\u001b[0m Trial 2 finished with value: 0.8932380391237473 and parameters: {'feature_fraction': 0.5}. Best is trial 0 with value: 0.8935497608075945.\u001b[0m\n",
      "feature_fraction, val_score: 0.893550:  43%|####2     | 3/7 [05:41<07:39, 114.82s/it]"
     ]
    },
    {
     "name": "stdout",
     "output_type": "stream",
     "text": [
      "[100]\tcv_agg's auc: 0.891114 + 0.000891988\n",
      "[200]\tcv_agg's auc: 0.891879 + 0.000919781\n",
      "[300]\tcv_agg's auc: 0.891873 + 0.000832528\n",
      "[400]\tcv_agg's auc: 0.891666 + 0.000896397\n",
      "[500]\tcv_agg's auc: 0.891323 + 0.000882412\n",
      "[600]\tcv_agg's auc: 0.890991 + 0.000933335\n",
      "[700]\tcv_agg's auc: 0.890639 + 0.000901145\n",
      "[800]\tcv_agg's auc: 0.890288 + 0.00083507\n",
      "[900]\tcv_agg's auc: 0.889965 + 0.000823317\n",
      "[1000]\tcv_agg's auc: 0.88966 + 0.000778688\n"
     ]
    },
    {
     "name": "stderr",
     "output_type": "stream",
     "text": [
      "feature_fraction, val_score: 0.893550:  57%|#####7    | 4/7 [07:22<05:27, 109.11s/it]\u001b[32m[I 2021-03-01 20:49:14,780]\u001b[0m Trial 3 finished with value: 0.891919331600526 and parameters: {'feature_fraction': 1.0}. Best is trial 0 with value: 0.8935497608075945.\u001b[0m\n",
      "feature_fraction, val_score: 0.893550:  57%|#####7    | 4/7 [07:22<05:27, 109.11s/it]"
     ]
    },
    {
     "name": "stdout",
     "output_type": "stream",
     "text": [
      "[100]\tcv_agg's auc: 0.891471 + 0.000960669\n",
      "[200]\tcv_agg's auc: 0.892417 + 0.00103536\n",
      "[300]\tcv_agg's auc: 0.892475 + 0.000956119\n",
      "[400]\tcv_agg's auc: 0.892296 + 0.000935869\n",
      "[500]\tcv_agg's auc: 0.892038 + 0.000892363\n",
      "[600]\tcv_agg's auc: 0.891752 + 0.000917128\n",
      "[700]\tcv_agg's auc: 0.891438 + 0.00085726\n",
      "[800]\tcv_agg's auc: 0.89116 + 0.000908135\n",
      "[900]\tcv_agg's auc: 0.890857 + 0.000926622\n",
      "[1000]\tcv_agg's auc: 0.890587 + 0.000935834\n"
     ]
    },
    {
     "name": "stderr",
     "output_type": "stream",
     "text": [
      "feature_fraction, val_score: 0.893550:  71%|#######1  | 5/7 [09:01<03:31, 105.60s/it]\u001b[32m[I 2021-03-01 20:50:54,145]\u001b[0m Trial 4 finished with value: 0.8924886000120796 and parameters: {'feature_fraction': 0.8}. Best is trial 0 with value: 0.8935497608075945.\u001b[0m\n",
      "feature_fraction, val_score: 0.893550:  71%|#######1  | 5/7 [09:01<03:31, 105.60s/it]"
     ]
    },
    {
     "name": "stdout",
     "output_type": "stream",
     "text": [
      "[100]\tcv_agg's auc: 0.891723 + 0.000898647\n",
      "[200]\tcv_agg's auc: 0.89265 + 0.00097748\n",
      "[300]\tcv_agg's auc: 0.892874 + 0.000942137\n",
      "[400]\tcv_agg's auc: 0.892797 + 0.000923491\n",
      "[500]\tcv_agg's auc: 0.892617 + 0.000870597\n",
      "[600]\tcv_agg's auc: 0.8924 + 0.000892872\n",
      "[700]\tcv_agg's auc: 0.892219 + 0.000877011\n",
      "[800]\tcv_agg's auc: 0.891963 + 0.000893211\n",
      "[900]\tcv_agg's auc: 0.891773 + 0.000919997\n",
      "[1000]\tcv_agg's auc: 0.891498 + 0.000912152\n"
     ]
    },
    {
     "name": "stderr",
     "output_type": "stream",
     "text": [
      "feature_fraction, val_score: 0.893550:  86%|########5 | 6/7 [10:42<01:43, 103.84s/it]\u001b[32m[I 2021-03-01 20:52:34,559]\u001b[0m Trial 5 finished with value: 0.8928901909400982 and parameters: {'feature_fraction': 0.6}. Best is trial 0 with value: 0.8935497608075945.\u001b[0m\n",
      "feature_fraction, val_score: 0.893550:  86%|########5 | 6/7 [10:42<01:43, 103.84s/it]"
     ]
    },
    {
     "name": "stdout",
     "output_type": "stream",
     "text": [
      "[100]\tcv_agg's auc: 0.89124 + 0.000776122\n",
      "[200]\tcv_agg's auc: 0.892011 + 0.00083651\n",
      "[300]\tcv_agg's auc: 0.891962 + 0.000849535\n",
      "[400]\tcv_agg's auc: 0.891757 + 0.000810506\n",
      "[500]\tcv_agg's auc: 0.891566 + 0.000786724\n",
      "[600]\tcv_agg's auc: 0.89123 + 0.000807654\n",
      "[700]\tcv_agg's auc: 0.890932 + 0.000803984\n",
      "[800]\tcv_agg's auc: 0.890612 + 0.000775018\n",
      "[900]\tcv_agg's auc: 0.890247 + 0.000733508\n",
      "[1000]\tcv_agg's auc: 0.889951 + 0.000668028\n"
     ]
    },
    {
     "name": "stderr",
     "output_type": "stream",
     "text": [
      "feature_fraction, val_score: 0.893550: 100%|##########| 7/7 [12:22<00:00, 102.77s/it]\u001b[32m[I 2021-03-01 20:54:15,121]\u001b[0m Trial 6 finished with value: 0.8920533025419447 and parameters: {'feature_fraction': 0.8999999999999999}. Best is trial 0 with value: 0.8935497608075945.\u001b[0m\n",
      "feature_fraction, val_score: 0.893550: 100%|##########| 7/7 [12:22<00:00, 106.10s/it]\n",
      "num_leaves, val_score: 0.893550:   0%|          | 0/20 [00:00<?, ?it/s]"
     ]
    },
    {
     "name": "stdout",
     "output_type": "stream",
     "text": [
      "[100]\tcv_agg's auc: 0.893803 + 0.00103593\n",
      "[200]\tcv_agg's auc: 0.893144 + 0.000867299\n",
      "[300]\tcv_agg's auc: 0.892388 + 0.000800289\n",
      "[400]\tcv_agg's auc: 0.891698 + 0.000829022\n",
      "[500]\tcv_agg's auc: 0.891078 + 0.000830809\n",
      "[600]\tcv_agg's auc: 0.89066 + 0.000788045\n",
      "[700]\tcv_agg's auc: 0.890178 + 0.000719036\n",
      "[800]\tcv_agg's auc: 0.889703 + 0.000735473\n",
      "[900]\tcv_agg's auc: 0.889419 + 0.000734944\n",
      "[1000]\tcv_agg's auc: 0.889151 + 0.000711665\n"
     ]
    },
    {
     "name": "stderr",
     "output_type": "stream",
     "text": [
      "num_leaves, val_score: 0.893814:   5%|5         | 1/20 [02:47<53:09, 167.86s/it]\u001b[32m[I 2021-03-01 20:57:02,990]\u001b[0m Trial 7 finished with value: 0.8938140487077764 and parameters: {'num_leaves': 206}. Best is trial 7 with value: 0.8938140487077764.\u001b[0m\n",
      "num_leaves, val_score: 0.893814:   5%|5         | 1/20 [02:47<53:09, 167.86s/it]"
     ]
    },
    {
     "name": "stdout",
     "output_type": "stream",
     "text": [
      "[100]\tcv_agg's auc: 0.89251 + 0.00106872\n",
      "[200]\tcv_agg's auc: 0.893428 + 0.00111503\n",
      "[300]\tcv_agg's auc: 0.893535 + 0.00107208\n",
      "[400]\tcv_agg's auc: 0.893438 + 0.00110351\n",
      "[500]\tcv_agg's auc: 0.893369 + 0.00112804\n",
      "[600]\tcv_agg's auc: 0.893191 + 0.00109164\n",
      "[700]\tcv_agg's auc: 0.89289 + 0.00112157\n",
      "[800]\tcv_agg's auc: 0.892605 + 0.00110831\n",
      "[900]\tcv_agg's auc: 0.892392 + 0.00108247\n",
      "[1000]\tcv_agg's auc: 0.892113 + 0.00104752\n"
     ]
    },
    {
     "name": "stderr",
     "output_type": "stream",
     "text": [
      "num_leaves, val_score: 0.893814:  10%|#         | 2/20 [04:47<41:46, 139.27s/it]\u001b[32m[I 2021-03-01 20:59:02,252]\u001b[0m Trial 8 finished with value: 0.8935378513459522 and parameters: {'num_leaves': 40}. Best is trial 7 with value: 0.8938140487077764.\u001b[0m\n",
      "num_leaves, val_score: 0.893814:  10%|#         | 2/20 [04:47<41:46, 139.27s/it]"
     ]
    },
    {
     "name": "stdout",
     "output_type": "stream",
     "text": [
      "[100]\tcv_agg's auc: 0.893747 + 0.00114813\n",
      "[200]\tcv_agg's auc: 0.893767 + 0.00120555\n",
      "[300]\tcv_agg's auc: 0.893398 + 0.00110524\n",
      "[400]\tcv_agg's auc: 0.892928 + 0.0011149\n",
      "[500]\tcv_agg's auc: 0.892542 + 0.0010677\n",
      "[600]\tcv_agg's auc: 0.89214 + 0.00105006\n",
      "[700]\tcv_agg's auc: 0.891706 + 0.00104241\n",
      "[800]\tcv_agg's auc: 0.891337 + 0.000986745\n",
      "[900]\tcv_agg's auc: 0.890934 + 0.000954861\n",
      "[1000]\tcv_agg's auc: 0.890475 + 0.000940378\n"
     ]
    },
    {
     "name": "stderr",
     "output_type": "stream",
     "text": [
      "num_leaves, val_score: 0.893914:  15%|#5        | 3/20 [07:15<40:39, 143.50s/it]\u001b[32m[I 2021-03-01 21:01:30,773]\u001b[0m Trial 9 finished with value: 0.893913531123879 and parameters: {'num_leaves': 104}. Best is trial 9 with value: 0.893913531123879.\u001b[0m\n",
      "num_leaves, val_score: 0.893914:  15%|#5        | 3/20 [07:15<40:39, 143.50s/it]"
     ]
    },
    {
     "name": "stdout",
     "output_type": "stream",
     "text": [
      "[100]\tcv_agg's auc: 0.893125 + 0.000973797\n",
      "[200]\tcv_agg's auc: 0.893712 + 0.00101299\n",
      "[300]\tcv_agg's auc: 0.893691 + 0.000970848\n",
      "[400]\tcv_agg's auc: 0.893497 + 0.000944414\n",
      "[500]\tcv_agg's auc: 0.893203 + 0.000887323\n",
      "[600]\tcv_agg's auc: 0.892948 + 0.000846313\n",
      "[700]\tcv_agg's auc: 0.892631 + 0.000816492\n",
      "[800]\tcv_agg's auc: 0.892373 + 0.000762139\n",
      "[900]\tcv_agg's auc: 0.892074 + 0.000793291\n",
      "[1000]\tcv_agg's auc: 0.891794 + 0.000873059\n"
     ]
    },
    {
     "name": "stderr",
     "output_type": "stream",
     "text": [
      "num_leaves, val_score: 0.893914:  20%|##        | 4/20 [09:20<36:16, 136.02s/it]\u001b[32m[I 2021-03-01 21:03:35,341]\u001b[0m Trial 10 finished with value: 0.8937250801421046 and parameters: {'num_leaves': 56}. Best is trial 9 with value: 0.893913531123879.\u001b[0m\n",
      "num_leaves, val_score: 0.893914:  20%|##        | 4/20 [09:20<36:16, 136.02s/it]"
     ]
    },
    {
     "name": "stdout",
     "output_type": "stream",
     "text": [
      "[100]\tcv_agg's auc: 0.893884 + 0.00107356\n",
      "[200]\tcv_agg's auc: 0.893406 + 0.0011251\n",
      "[300]\tcv_agg's auc: 0.892614 + 0.0011638\n",
      "[400]\tcv_agg's auc: 0.892043 + 0.00110612\n",
      "[500]\tcv_agg's auc: 0.891532 + 0.000911267\n",
      "[600]\tcv_agg's auc: 0.891063 + 0.00088149\n",
      "[700]\tcv_agg's auc: 0.89059 + 0.000892904\n",
      "[800]\tcv_agg's auc: 0.890045 + 0.0009052\n",
      "[900]\tcv_agg's auc: 0.889708 + 0.000862469\n",
      "[1000]\tcv_agg's auc: 0.889457 + 0.00097817\n"
     ]
    },
    {
     "name": "stderr",
     "output_type": "stream",
     "text": [
      "num_leaves, val_score: 0.893974:  25%|##5       | 5/20 [12:01<36:16, 145.09s/it]\u001b[32m[I 2021-03-01 21:06:16,503]\u001b[0m Trial 11 finished with value: 0.8939739841469334 and parameters: {'num_leaves': 180}. Best is trial 11 with value: 0.8939739841469334.\u001b[0m\n",
      "num_leaves, val_score: 0.893974:  25%|##5       | 5/20 [12:01<36:16, 145.09s/it]"
     ]
    },
    {
     "name": "stdout",
     "output_type": "stream",
     "text": [
      "[100]\tcv_agg's auc: 0.892881 + 0.000982469\n",
      "[200]\tcv_agg's auc: 0.893703 + 0.00100933\n",
      "[300]\tcv_agg's auc: 0.893715 + 0.000857655\n",
      "[400]\tcv_agg's auc: 0.893623 + 0.000812893\n",
      "[500]\tcv_agg's auc: 0.893402 + 0.00077633\n",
      "[600]\tcv_agg's auc: 0.893122 + 0.000705589\n",
      "[700]\tcv_agg's auc: 0.892833 + 0.000742586\n",
      "[800]\tcv_agg's auc: 0.892516 + 0.000704601\n",
      "[900]\tcv_agg's auc: 0.892284 + 0.0007032\n",
      "[1000]\tcv_agg's auc: 0.891945 + 0.000759646\n"
     ]
    },
    {
     "name": "stderr",
     "output_type": "stream",
     "text": [
      "num_leaves, val_score: 0.893974:  30%|###       | 6/20 [14:01<31:54, 136.73s/it]\u001b[32m[I 2021-03-01 21:08:17,022]\u001b[0m Trial 12 finished with value: 0.893730201362074 and parameters: {'num_leaves': 48}. Best is trial 11 with value: 0.8939739841469334.\u001b[0m\n",
      "num_leaves, val_score: 0.893974:  30%|###       | 6/20 [14:01<31:54, 136.73s/it]"
     ]
    },
    {
     "name": "stdout",
     "output_type": "stream",
     "text": [
      "[100]\tcv_agg's auc: 0.892222 + 0.000969816\n",
      "[200]\tcv_agg's auc: 0.893301 + 0.000999929\n",
      "[300]\tcv_agg's auc: 0.893501 + 0.00103847\n",
      "[400]\tcv_agg's auc: 0.893552 + 0.000989237\n",
      "[500]\tcv_agg's auc: 0.893435 + 0.000915307\n",
      "[600]\tcv_agg's auc: 0.893317 + 0.000900992\n",
      "[700]\tcv_agg's auc: 0.893105 + 0.000892979\n",
      "[800]\tcv_agg's auc: 0.892914 + 0.000905185\n",
      "[900]\tcv_agg's auc: 0.892755 + 0.000894601\n",
      "[1000]\tcv_agg's auc: 0.8926 + 0.000816072\n"
     ]
    },
    {
     "name": "stderr",
     "output_type": "stream",
     "text": [
      "num_leaves, val_score: 0.893974:  35%|###5      | 7/20 [15:58<28:12, 130.20s/it]\u001b[32m[I 2021-03-01 21:10:13,774]\u001b[0m Trial 13 finished with value: 0.8935532813890269 and parameters: {'num_leaves': 34}. Best is trial 11 with value: 0.8939739841469334.\u001b[0m\n",
      "num_leaves, val_score: 0.893974:  35%|###5      | 7/20 [15:58<28:12, 130.20s/it]"
     ]
    },
    {
     "name": "stdout",
     "output_type": "stream",
     "text": [
      "[100]\tcv_agg's auc: 0.893938 + 0.000982289\n",
      "[200]\tcv_agg's auc: 0.893696 + 0.00102499\n",
      "[300]\tcv_agg's auc: 0.893122 + 0.000957984\n",
      "[400]\tcv_agg's auc: 0.892592 + 0.000918063\n",
      "[500]\tcv_agg's auc: 0.891977 + 0.000927788\n",
      "[600]\tcv_agg's auc: 0.891516 + 0.000891873\n",
      "[700]\tcv_agg's auc: 0.891015 + 0.000834188\n",
      "[800]\tcv_agg's auc: 0.890624 + 0.000819338\n",
      "[900]\tcv_agg's auc: 0.890313 + 0.000721438\n",
      "[1000]\tcv_agg's auc: 0.889966 + 0.000671961\n"
     ]
    },
    {
     "name": "stderr",
     "output_type": "stream",
     "text": [
      "num_leaves, val_score: 0.893988:  40%|####      | 8/20 [18:34<27:41, 138.48s/it]\u001b[32m[I 2021-03-01 21:12:49,966]\u001b[0m Trial 14 finished with value: 0.8939884756208114 and parameters: {'num_leaves': 124}. Best is trial 14 with value: 0.8939884756208114.\u001b[0m\n",
      "num_leaves, val_score: 0.893988:  40%|####      | 8/20 [18:34<27:41, 138.48s/it]"
     ]
    },
    {
     "name": "stdout",
     "output_type": "stream",
     "text": [
      "[100]\tcv_agg's auc: 0.893804 + 0.00111534\n",
      "[200]\tcv_agg's auc: 0.893411 + 0.00103616\n",
      "[300]\tcv_agg's auc: 0.892735 + 0.00108998\n",
      "[400]\tcv_agg's auc: 0.892091 + 0.000993746\n",
      "[500]\tcv_agg's auc: 0.891528 + 0.000931618\n",
      "[600]\tcv_agg's auc: 0.891058 + 0.00101889\n",
      "[700]\tcv_agg's auc: 0.890628 + 0.000981349\n",
      "[800]\tcv_agg's auc: 0.890315 + 0.000918263\n",
      "[900]\tcv_agg's auc: 0.889908 + 0.000855097\n",
      "[1000]\tcv_agg's auc: 0.889605 + 0.000855327\n"
     ]
    },
    {
     "name": "stderr",
     "output_type": "stream",
     "text": [
      "num_leaves, val_score: 0.893988:  45%|####5     | 9/20 [21:07<26:11, 142.87s/it]\u001b[32m[I 2021-03-01 21:15:22,498]\u001b[0m Trial 15 finished with value: 0.893844855038482 and parameters: {'num_leaves': 156}. Best is trial 14 with value: 0.8939884756208114.\u001b[0m\n",
      "num_leaves, val_score: 0.893988:  45%|####5     | 9/20 [21:07<26:11, 142.87s/it]"
     ]
    },
    {
     "name": "stdout",
     "output_type": "stream",
     "text": [
      "[100]\tcv_agg's auc: 0.893824 + 0.00107046\n",
      "[200]\tcv_agg's auc: 0.893238 + 0.00114099\n",
      "[300]\tcv_agg's auc: 0.892638 + 0.0010509\n",
      "[400]\tcv_agg's auc: 0.891849 + 0.000980041\n",
      "[500]\tcv_agg's auc: 0.891242 + 0.000894614\n",
      "[600]\tcv_agg's auc: 0.890751 + 0.000826214\n",
      "[700]\tcv_agg's auc: 0.890213 + 0.00071874\n",
      "[800]\tcv_agg's auc: 0.889796 + 0.000784066\n",
      "[900]\tcv_agg's auc: 0.889448 + 0.000787818\n",
      "[1000]\tcv_agg's auc: 0.889209 + 0.000800067\n"
     ]
    },
    {
     "name": "stderr",
     "output_type": "stream",
     "text": [
      "num_leaves, val_score: 0.893988:  50%|#####     | 10/20 [23:49<24:48, 148.83s/it]\u001b[32m[I 2021-03-01 21:18:04,678]\u001b[0m Trial 16 finished with value: 0.8938462507255703 and parameters: {'num_leaves': 191}. Best is trial 14 with value: 0.8939884756208114.\u001b[0m\n",
      "num_leaves, val_score: 0.893988:  50%|#####     | 10/20 [23:49<24:48, 148.83s/it]"
     ]
    },
    {
     "name": "stdout",
     "output_type": "stream",
     "text": [
      "[100]\tcv_agg's auc: 0.893773 + 0.000977567\n",
      "[200]\tcv_agg's auc: 0.893744 + 0.0010122\n",
      "[300]\tcv_agg's auc: 0.893272 + 0.000897351\n",
      "[400]\tcv_agg's auc: 0.892825 + 0.000944056\n",
      "[500]\tcv_agg's auc: 0.89234 + 0.000968437\n",
      "[600]\tcv_agg's auc: 0.891821 + 0.00101144\n",
      "[700]\tcv_agg's auc: 0.891357 + 0.00100448\n",
      "[800]\tcv_agg's auc: 0.891019 + 0.00094389\n",
      "[900]\tcv_agg's auc: 0.890675 + 0.000902173\n",
      "[1000]\tcv_agg's auc: 0.890372 + 0.000942067\n"
     ]
    },
    {
     "name": "stderr",
     "output_type": "stream",
     "text": [
      "num_leaves, val_score: 0.893988:  55%|#####5    | 11/20 [26:09<21:53, 145.96s/it]\u001b[32m[I 2021-03-01 21:20:24,141]\u001b[0m Trial 17 finished with value: 0.8939117136480104 and parameters: {'num_leaves': 107}. Best is trial 14 with value: 0.8939884756208114.\u001b[0m\n",
      "num_leaves, val_score: 0.893988:  55%|#####5    | 11/20 [26:09<21:53, 145.96s/it]"
     ]
    },
    {
     "name": "stdout",
     "output_type": "stream",
     "text": [
      "[100]\tcv_agg's auc: 0.893817 + 0.00107484\n",
      "[200]\tcv_agg's auc: 0.892958 + 0.000973219\n",
      "[300]\tcv_agg's auc: 0.891954 + 0.000951569\n",
      "[400]\tcv_agg's auc: 0.891221 + 0.000940215\n",
      "[500]\tcv_agg's auc: 0.890666 + 0.000937482\n",
      "[600]\tcv_agg's auc: 0.890134 + 0.000983124\n",
      "[700]\tcv_agg's auc: 0.889707 + 0.000870907\n",
      "[800]\tcv_agg's auc: 0.889363 + 0.000864238\n",
      "[900]\tcv_agg's auc: 0.889066 + 0.000848485\n",
      "[1000]\tcv_agg's auc: 0.888834 + 0.000900998\n"
     ]
    },
    {
     "name": "stderr",
     "output_type": "stream",
     "text": [
      "num_leaves, val_score: 0.893988:  60%|######    | 12/20 [29:08<20:48, 156.10s/it]\u001b[32m[I 2021-03-01 21:23:23,425]\u001b[0m Trial 18 finished with value: 0.8938620635022391 and parameters: {'num_leaves': 252}. Best is trial 14 with value: 0.8939884756208114.\u001b[0m\n",
      "num_leaves, val_score: 0.893988:  60%|######    | 12/20 [29:08<20:48, 156.10s/it]"
     ]
    },
    {
     "name": "stdout",
     "output_type": "stream",
     "text": [
      "[100]\tcv_agg's auc: 0.893878 + 0.00098794\n",
      "[200]\tcv_agg's auc: 0.893496 + 0.00098029\n",
      "[300]\tcv_agg's auc: 0.892746 + 0.00103282\n",
      "[400]\tcv_agg's auc: 0.892133 + 0.00100296\n",
      "[500]\tcv_agg's auc: 0.891551 + 0.000944606\n",
      "[600]\tcv_agg's auc: 0.891033 + 0.000874053\n",
      "[700]\tcv_agg's auc: 0.890563 + 0.00089908\n",
      "[800]\tcv_agg's auc: 0.8901 + 0.000877425\n",
      "[900]\tcv_agg's auc: 0.889751 + 0.000928611\n",
      "[1000]\tcv_agg's auc: 0.889436 + 0.000989407\n"
     ]
    },
    {
     "name": "stderr",
     "output_type": "stream",
     "text": [
      "num_leaves, val_score: 0.893988:  65%|######5   | 13/20 [31:42<18:08, 155.53s/it]\u001b[32m[I 2021-03-01 21:25:57,653]\u001b[0m Trial 19 finished with value: 0.8939258048892595 and parameters: {'num_leaves': 160}. Best is trial 14 with value: 0.8939884756208114.\u001b[0m\n",
      "num_leaves, val_score: 0.893988:  65%|######5   | 13/20 [31:42<18:08, 155.53s/it]"
     ]
    },
    {
     "name": "stdout",
     "output_type": "stream",
     "text": [
      "[100]\tcv_agg's auc: 0.893817 + 0.00107484\n",
      "[200]\tcv_agg's auc: 0.892958 + 0.000973219\n",
      "[300]\tcv_agg's auc: 0.891954 + 0.000951569\n",
      "[400]\tcv_agg's auc: 0.891221 + 0.000940215\n",
      "[500]\tcv_agg's auc: 0.890666 + 0.000937482\n",
      "[600]\tcv_agg's auc: 0.890134 + 0.000983124\n",
      "[700]\tcv_agg's auc: 0.889707 + 0.000870907\n",
      "[800]\tcv_agg's auc: 0.889363 + 0.000864238\n",
      "[900]\tcv_agg's auc: 0.889066 + 0.000848485\n",
      "[1000]\tcv_agg's auc: 0.888834 + 0.000900998\n"
     ]
    },
    {
     "name": "stderr",
     "output_type": "stream",
     "text": [
      "num_leaves, val_score: 0.893988:  70%|#######   | 14/20 [34:42<16:16, 162.77s/it]\u001b[32m[I 2021-03-01 21:28:57,137]\u001b[0m Trial 20 finished with value: 0.8938620635022391 and parameters: {'num_leaves': 252}. Best is trial 14 with value: 0.8939884756208114.\u001b[0m\n",
      "num_leaves, val_score: 0.893988:  70%|#######   | 14/20 [34:42<16:16, 162.77s/it]"
     ]
    },
    {
     "name": "stdout",
     "output_type": "stream",
     "text": [
      "[100]\tcv_agg's auc: 0.893817 + 0.00112094\n",
      "[200]\tcv_agg's auc: 0.893553 + 0.000985289\n",
      "[300]\tcv_agg's auc: 0.892866 + 0.000967432\n",
      "[400]\tcv_agg's auc: 0.892284 + 0.00101257\n",
      "[500]\tcv_agg's auc: 0.891632 + 0.000999036\n",
      "[600]\tcv_agg's auc: 0.891198 + 0.000905794\n",
      "[700]\tcv_agg's auc: 0.890832 + 0.000877071\n",
      "[800]\tcv_agg's auc: 0.890374 + 0.000846399\n",
      "[900]\tcv_agg's auc: 0.890074 + 0.000756255\n",
      "[1000]\tcv_agg's auc: 0.889795 + 0.000701824\n"
     ]
    },
    {
     "name": "stderr",
     "output_type": "stream",
     "text": [
      "num_leaves, val_score: 0.893988:  75%|#######5  | 15/20 [37:07<13:07, 157.57s/it]\u001b[32m[I 2021-03-01 21:31:22,670]\u001b[0m Trial 21 finished with value: 0.8939145083249805 and parameters: {'num_leaves': 132}. Best is trial 14 with value: 0.8939884756208114.\u001b[0m\n",
      "num_leaves, val_score: 0.893988:  75%|#######5  | 15/20 [37:07<13:07, 157.57s/it]"
     ]
    },
    {
     "name": "stdout",
     "output_type": "stream",
     "text": [
      "[100]\tcv_agg's auc: 0.893766 + 0.00107247\n",
      "[200]\tcv_agg's auc: 0.893194 + 0.0010745\n",
      "[300]\tcv_agg's auc: 0.892301 + 0.00117872\n",
      "[400]\tcv_agg's auc: 0.891525 + 0.00114825\n",
      "[500]\tcv_agg's auc: 0.890941 + 0.00107563\n",
      "[600]\tcv_agg's auc: 0.890445 + 0.00101472\n",
      "[700]\tcv_agg's auc: 0.889974 + 0.00102608\n",
      "[800]\tcv_agg's auc: 0.889673 + 0.00102703\n",
      "[900]\tcv_agg's auc: 0.889381 + 0.000982672\n",
      "[1000]\tcv_agg's auc: 0.889083 + 0.00103189\n"
     ]
    },
    {
     "name": "stderr",
     "output_type": "stream",
     "text": [
      "num_leaves, val_score: 0.893988:  80%|########  | 16/20 [39:58<10:45, 161.50s/it]\u001b[32m[I 2021-03-01 21:34:13,280]\u001b[0m Trial 22 finished with value: 0.8937927813149947 and parameters: {'num_leaves': 217}. Best is trial 14 with value: 0.8939884756208114.\u001b[0m\n",
      "num_leaves, val_score: 0.893988:  80%|########  | 16/20 [39:58<10:45, 161.50s/it]"
     ]
    },
    {
     "name": "stdout",
     "output_type": "stream",
     "text": [
      "[100]\tcv_agg's auc: 0.893663 + 0.000955179\n",
      "[200]\tcv_agg's auc: 0.893896 + 0.000936879\n",
      "[300]\tcv_agg's auc: 0.893458 + 0.000942757\n",
      "[400]\tcv_agg's auc: 0.893035 + 0.000941426\n",
      "[500]\tcv_agg's auc: 0.892653 + 0.000919189\n",
      "[600]\tcv_agg's auc: 0.892203 + 0.000940034\n",
      "[700]\tcv_agg's auc: 0.891727 + 0.00085268\n",
      "[800]\tcv_agg's auc: 0.891313 + 0.00082599\n",
      "[900]\tcv_agg's auc: 0.890954 + 0.000806056\n",
      "[1000]\tcv_agg's auc: 0.890521 + 0.000771561\n"
     ]
    },
    {
     "name": "stderr",
     "output_type": "stream",
     "text": [
      "num_leaves, val_score: 0.893988:  85%|########5 | 17/20 [42:11<07:39, 153.06s/it]\u001b[32m[I 2021-03-01 21:36:26,708]\u001b[0m Trial 23 finished with value: 0.8939689964022417 and parameters: {'num_leaves': 89}. Best is trial 14 with value: 0.8939884756208114.\u001b[0m\n",
      "num_leaves, val_score: 0.893988:  85%|########5 | 17/20 [42:11<07:39, 153.06s/it]"
     ]
    },
    {
     "name": "stdout",
     "output_type": "stream",
     "text": [
      "[100]\tcv_agg's auc: 0.893742 + 0.00101514\n",
      "[200]\tcv_agg's auc: 0.893122 + 0.0010677\n",
      "[300]\tcv_agg's auc: 0.892382 + 0.00117263\n",
      "[400]\tcv_agg's auc: 0.891759 + 0.00109591\n",
      "[500]\tcv_agg's auc: 0.891174 + 0.00105166\n",
      "[600]\tcv_agg's auc: 0.890683 + 0.00111796\n",
      "[700]\tcv_agg's auc: 0.89019 + 0.00109587\n",
      "[800]\tcv_agg's auc: 0.889889 + 0.00105103\n",
      "[900]\tcv_agg's auc: 0.889537 + 0.0010124\n",
      "[1000]\tcv_agg's auc: 0.889273 + 0.000972608\n"
     ]
    },
    {
     "name": "stderr",
     "output_type": "stream",
     "text": [
      "num_leaves, val_score: 0.893988:  90%|######### | 18/20 [44:49<05:08, 154.48s/it]\u001b[32m[I 2021-03-01 21:39:04,497]\u001b[0m Trial 24 finished with value: 0.893772475333576 and parameters: {'num_leaves': 173}. Best is trial 14 with value: 0.8939884756208114.\u001b[0m\n",
      "num_leaves, val_score: 0.893988:  90%|######### | 18/20 [44:49<05:08, 154.48s/it]"
     ]
    },
    {
     "name": "stdout",
     "output_type": "stream",
     "text": [
      "[100]\tcv_agg's auc: 0.893925 + 0.00103516\n",
      "[200]\tcv_agg's auc: 0.893668 + 0.0011027\n",
      "[300]\tcv_agg's auc: 0.893069 + 0.00106302\n",
      "[400]\tcv_agg's auc: 0.892411 + 0.00101582\n",
      "[500]\tcv_agg's auc: 0.891943 + 0.000998442\n",
      "[600]\tcv_agg's auc: 0.891499 + 0.000937317\n",
      "[700]\tcv_agg's auc: 0.891016 + 0.000891676\n",
      "[800]\tcv_agg's auc: 0.890569 + 0.000832826\n",
      "[900]\tcv_agg's auc: 0.890207 + 0.000740288\n",
      "[1000]\tcv_agg's auc: 0.889904 + 0.000696831\n"
     ]
    },
    {
     "name": "stderr",
     "output_type": "stream",
     "text": [
      "num_leaves, val_score: 0.894014:  95%|#########5| 19/20 [47:15<02:32, 152.12s/it]\u001b[32m[I 2021-03-01 21:41:31,118]\u001b[0m Trial 25 finished with value: 0.8940136686960963 and parameters: {'num_leaves': 135}. Best is trial 25 with value: 0.8940136686960963.\u001b[0m\n",
      "num_leaves, val_score: 0.894014:  95%|#########5| 19/20 [47:15<02:32, 152.12s/it]"
     ]
    },
    {
     "name": "stdout",
     "output_type": "stream",
     "text": [
      "[100]\tcv_agg's auc: 0.893509 + 0.00104996\n",
      "[200]\tcv_agg's auc: 0.893868 + 0.0010936\n",
      "[300]\tcv_agg's auc: 0.893703 + 0.000990983\n",
      "[400]\tcv_agg's auc: 0.893487 + 0.00100196\n",
      "[500]\tcv_agg's auc: 0.893253 + 0.000944641\n",
      "[600]\tcv_agg's auc: 0.892921 + 0.000894918\n",
      "[700]\tcv_agg's auc: 0.89257 + 0.000860964\n",
      "[800]\tcv_agg's auc: 0.892202 + 0.00078885\n",
      "[900]\tcv_agg's auc: 0.89189 + 0.000713677\n",
      "[1000]\tcv_agg's auc: 0.891539 + 0.000676646\n"
     ]
    },
    {
     "name": "stderr",
     "output_type": "stream",
     "text": [
      "num_leaves, val_score: 0.894014: 100%|##########| 20/20 [49:19<00:00, 143.65s/it]\u001b[32m[I 2021-03-01 21:43:35,032]\u001b[0m Trial 26 finished with value: 0.8939155407103707 and parameters: {'num_leaves': 69}. Best is trial 25 with value: 0.8940136686960963.\u001b[0m\n",
      "num_leaves, val_score: 0.894014: 100%|##########| 20/20 [49:19<00:00, 148.00s/it]\n",
      "bagging, val_score: 0.894014:   0%|          | 0/10 [00:00<?, ?it/s]"
     ]
    },
    {
     "name": "stdout",
     "output_type": "stream",
     "text": [
      "[100]\tcv_agg's auc: 0.893272 + 0.000916266\n",
      "[200]\tcv_agg's auc: 0.892952 + 0.000879051\n",
      "[300]\tcv_agg's auc: 0.892071 + 0.000884326\n",
      "[400]\tcv_agg's auc: 0.891187 + 0.000777442\n",
      "[500]\tcv_agg's auc: 0.890386 + 0.000707802\n",
      "[600]\tcv_agg's auc: 0.889631 + 0.000830663\n",
      "[700]\tcv_agg's auc: 0.889028 + 0.000783889\n",
      "[800]\tcv_agg's auc: 0.888418 + 0.00070841\n",
      "[900]\tcv_agg's auc: 0.887879 + 0.00073251\n",
      "[1000]\tcv_agg's auc: 0.887429 + 0.000715539\n"
     ]
    },
    {
     "name": "stderr",
     "output_type": "stream",
     "text": [
      "bagging, val_score: 0.894014:  10%|#         | 1/10 [03:19<29:55, 199.46s/it]\u001b[32m[I 2021-03-01 21:46:54,504]\u001b[0m Trial 27 finished with value: 0.8934501342948981 and parameters: {'bagging_fraction': 0.7160857988306611, 'bagging_freq': 5}. Best is trial 27 with value: 0.8934501342948981.\u001b[0m\n",
      "bagging, val_score: 0.894014:  10%|#         | 1/10 [03:19<29:55, 199.46s/it]"
     ]
    },
    {
     "name": "stdout",
     "output_type": "stream",
     "text": [
      "[100]\tcv_agg's auc: 0.89377 + 0.000936893\n",
      "[200]\tcv_agg's auc: 0.893539 + 0.000832136\n",
      "[300]\tcv_agg's auc: 0.892974 + 0.000864614\n",
      "[400]\tcv_agg's auc: 0.892516 + 0.000880242\n",
      "[500]\tcv_agg's auc: 0.892009 + 0.000831743\n",
      "[600]\tcv_agg's auc: 0.891564 + 0.000766383\n",
      "[700]\tcv_agg's auc: 0.891081 + 0.000714108\n",
      "[800]\tcv_agg's auc: 0.890649 + 0.000694903\n",
      "[900]\tcv_agg's auc: 0.890221 + 0.000686282\n",
      "[1000]\tcv_agg's auc: 0.889884 + 0.000634779\n"
     ]
    },
    {
     "name": "stderr",
     "output_type": "stream",
     "text": [
      "bagging, val_score: 0.894014:  20%|##        | 2/10 [05:51<22:52, 171.55s/it]\u001b[32m[I 2021-03-01 21:49:26,506]\u001b[0m Trial 28 finished with value: 0.8938262685295308 and parameters: {'bagging_fraction': 0.9665483657719728, 'bagging_freq': 1}. Best is trial 28 with value: 0.8938262685295308.\u001b[0m\n",
      "bagging, val_score: 0.894014:  20%|##        | 2/10 [05:51<22:52, 171.55s/it]"
     ]
    },
    {
     "name": "stdout",
     "output_type": "stream",
     "text": [
      "[100]\tcv_agg's auc: 0.892133 + 0.00132827\n",
      "[200]\tcv_agg's auc: 0.891344 + 0.00121605\n",
      "[300]\tcv_agg's auc: 0.890105 + 0.00108783\n",
      "[400]\tcv_agg's auc: 0.888715 + 0.00113646\n",
      "[500]\tcv_agg's auc: 0.887501 + 0.00104441\n",
      "[600]\tcv_agg's auc: 0.886385 + 0.00099014\n",
      "[700]\tcv_agg's auc: 0.885472 + 0.0010131\n",
      "[800]\tcv_agg's auc: 0.884556 + 0.000905992\n",
      "[900]\tcv_agg's auc: 0.883799 + 0.000872071\n",
      "[1000]\tcv_agg's auc: 0.883166 + 0.000878162\n"
     ]
    },
    {
     "name": "stderr",
     "output_type": "stream",
     "text": [
      "bagging, val_score: 0.894014:  30%|###       | 3/10 [09:34<22:44, 195.00s/it]\u001b[32m[I 2021-03-01 21:53:09,415]\u001b[0m Trial 29 finished with value: 0.8921836521779276 and parameters: {'bagging_fraction': 0.44286929629656807, 'bagging_freq': 1}. Best is trial 28 with value: 0.8938262685295308.\u001b[0m\n",
      "bagging, val_score: 0.894014:  30%|###       | 3/10 [09:34<22:44, 195.00s/it]"
     ]
    },
    {
     "name": "stdout",
     "output_type": "stream",
     "text": [
      "[100]\tcv_agg's auc: 0.892343 + 0.0010653\n",
      "[200]\tcv_agg's auc: 0.891768 + 0.00111428\n",
      "[300]\tcv_agg's auc: 0.890533 + 0.00107856\n",
      "[400]\tcv_agg's auc: 0.889503 + 0.00113135\n",
      "[500]\tcv_agg's auc: 0.888455 + 0.000917241\n",
      "[600]\tcv_agg's auc: 0.887678 + 0.000900685\n",
      "[700]\tcv_agg's auc: 0.886771 + 0.000763492\n",
      "[800]\tcv_agg's auc: 0.886097 + 0.000662577\n",
      "[900]\tcv_agg's auc: 0.885604 + 0.000601427\n",
      "[1000]\tcv_agg's auc: 0.885266 + 0.000547492\n"
     ]
    },
    {
     "name": "stderr",
     "output_type": "stream",
     "text": [
      "bagging, val_score: 0.894014:  40%|####      | 4/10 [13:03<20:02, 200.40s/it]\u001b[32m[I 2021-03-01 21:56:38,089]\u001b[0m Trial 30 finished with value: 0.8924223260557749 and parameters: {'bagging_fraction': 0.5397228433523698, 'bagging_freq': 2}. Best is trial 28 with value: 0.8938262685295308.\u001b[0m\n",
      "bagging, val_score: 0.894014:  40%|####      | 4/10 [13:03<20:02, 200.40s/it]"
     ]
    },
    {
     "name": "stdout",
     "output_type": "stream",
     "text": [
      "[100]\tcv_agg's auc: 0.893491 + 0.00105868\n",
      "[200]\tcv_agg's auc: 0.893207 + 0.00108669\n",
      "[300]\tcv_agg's auc: 0.892635 + 0.000839168\n",
      "[400]\tcv_agg's auc: 0.891936 + 0.000858255\n",
      "[500]\tcv_agg's auc: 0.891218 + 0.000818141\n",
      "[600]\tcv_agg's auc: 0.890568 + 0.000792863\n",
      "[700]\tcv_agg's auc: 0.890006 + 0.000842807\n",
      "[800]\tcv_agg's auc: 0.889571 + 0.000787715\n",
      "[900]\tcv_agg's auc: 0.889193 + 0.000772624\n",
      "[1000]\tcv_agg's auc: 0.888838 + 0.000770795\n"
     ]
    },
    {
     "name": "stderr",
     "output_type": "stream",
     "text": [
      "bagging, val_score: 0.894014:  50%|#####     | 5/10 [16:17<16:31, 198.22s/it]\u001b[32m[I 2021-03-01 21:59:52,439]\u001b[0m Trial 31 finished with value: 0.8936024706099825 and parameters: {'bagging_fraction': 0.8493117526877305, 'bagging_freq': 7}. Best is trial 28 with value: 0.8938262685295308.\u001b[0m\n",
      "bagging, val_score: 0.894014:  50%|#####     | 5/10 [16:17<16:31, 198.22s/it]"
     ]
    },
    {
     "name": "stdout",
     "output_type": "stream",
     "text": [
      "[100]\tcv_agg's auc: 0.893677 + 0.00128668\n",
      "[200]\tcv_agg's auc: 0.89341 + 0.00131811\n",
      "[300]\tcv_agg's auc: 0.892815 + 0.00118525\n",
      "[400]\tcv_agg's auc: 0.892136 + 0.00107836\n",
      "[500]\tcv_agg's auc: 0.891453 + 0.000976231\n",
      "[600]\tcv_agg's auc: 0.890938 + 0.000977866\n",
      "[700]\tcv_agg's auc: 0.890429 + 0.000996535\n",
      "[800]\tcv_agg's auc: 0.889908 + 0.00101789\n",
      "[900]\tcv_agg's auc: 0.889541 + 0.000893739\n",
      "[1000]\tcv_agg's auc: 0.889163 + 0.000824223\n"
     ]
    },
    {
     "name": "stderr",
     "output_type": "stream",
     "text": [
      "bagging, val_score: 0.894014:  60%|######    | 6/10 [19:26<13:00, 195.25s/it]\u001b[32m[I 2021-03-01 22:03:01,923]\u001b[0m Trial 32 finished with value: 0.8938270024371567 and parameters: {'bagging_fraction': 0.9112601321632212, 'bagging_freq': 7}. Best is trial 32 with value: 0.8938270024371567.\u001b[0m\n",
      "bagging, val_score: 0.894014:  60%|######    | 6/10 [19:26<13:00, 195.25s/it]"
     ]
    },
    {
     "name": "stdout",
     "output_type": "stream",
     "text": [
      "[100]\tcv_agg's auc: 0.892621 + 0.000915472\n",
      "[200]\tcv_agg's auc: 0.892099 + 0.000887263\n",
      "[300]\tcv_agg's auc: 0.891076 + 0.00105544\n",
      "[400]\tcv_agg's auc: 0.889909 + 0.000947895\n",
      "[500]\tcv_agg's auc: 0.888939 + 0.000960301\n",
      "[600]\tcv_agg's auc: 0.888125 + 0.0010548\n",
      "[700]\tcv_agg's auc: 0.887334 + 0.00104418\n",
      "[800]\tcv_agg's auc: 0.886657 + 0.000895194\n",
      "[900]\tcv_agg's auc: 0.886111 + 0.000738235\n",
      "[1000]\tcv_agg's auc: 0.885768 + 0.000844081\n"
     ]
    },
    {
     "name": "stderr",
     "output_type": "stream",
     "text": [
      "bagging, val_score: 0.894014:  70%|#######   | 7/10 [23:07<10:10, 203.48s/it]\u001b[32m[I 2021-03-01 22:06:42,356]\u001b[0m Trial 33 finished with value: 0.8926890204127969 and parameters: {'bagging_fraction': 0.5533621270919857, 'bagging_freq': 2}. Best is trial 32 with value: 0.8938270024371567.\u001b[0m\n",
      "bagging, val_score: 0.894014:  70%|#######   | 7/10 [23:07<10:10, 203.48s/it]"
     ]
    },
    {
     "name": "stdout",
     "output_type": "stream",
     "text": [
      "[100]\tcv_agg's auc: 0.893406 + 0.000884835\n",
      "[200]\tcv_agg's auc: 0.893203 + 0.000814678\n",
      "[300]\tcv_agg's auc: 0.892436 + 0.000757521\n",
      "[400]\tcv_agg's auc: 0.891706 + 0.000585159\n",
      "[500]\tcv_agg's auc: 0.890934 + 0.000454315\n",
      "[600]\tcv_agg's auc: 0.89028 + 0.000483066\n",
      "[700]\tcv_agg's auc: 0.889689 + 0.000397134\n",
      "[800]\tcv_agg's auc: 0.88923 + 0.000370576\n",
      "[900]\tcv_agg's auc: 0.888779 + 0.000409173\n",
      "[1000]\tcv_agg's auc: 0.888293 + 0.00042618\n"
     ]
    },
    {
     "name": "stderr",
     "output_type": "stream",
     "text": [
      "bagging, val_score: 0.894014:  80%|########  | 8/10 [26:24<06:43, 201.51s/it]\u001b[32m[I 2021-03-01 22:09:59,657]\u001b[0m Trial 34 finished with value: 0.8934940952674598 and parameters: {'bagging_fraction': 0.7782955986175111, 'bagging_freq': 6}. Best is trial 32 with value: 0.8938270024371567.\u001b[0m\n",
      "bagging, val_score: 0.894014:  80%|########  | 8/10 [26:24<06:43, 201.51s/it]"
     ]
    },
    {
     "name": "stdout",
     "output_type": "stream",
     "text": [
      "[100]\tcv_agg's auc: 0.893148 + 0.000884984\n",
      "[200]\tcv_agg's auc: 0.892809 + 0.000847072\n",
      "[300]\tcv_agg's auc: 0.891849 + 0.000935481\n",
      "[400]\tcv_agg's auc: 0.89106 + 0.000949071\n",
      "[500]\tcv_agg's auc: 0.890213 + 0.000951896\n",
      "[600]\tcv_agg's auc: 0.889252 + 0.000990371\n",
      "[700]\tcv_agg's auc: 0.888448 + 0.000887902\n",
      "[800]\tcv_agg's auc: 0.887857 + 0.000841352\n",
      "[900]\tcv_agg's auc: 0.88735 + 0.000808848\n",
      "[1000]\tcv_agg's auc: 0.886922 + 0.00077299\n"
     ]
    },
    {
     "name": "stderr",
     "output_type": "stream",
     "text": [
      "bagging, val_score: 0.894014:  90%|######### | 9/10 [29:58<03:25, 205.28s/it]\u001b[32m[I 2021-03-01 22:13:33,203]\u001b[0m Trial 35 finished with value: 0.8932992970107965 and parameters: {'bagging_fraction': 0.6617095303940711, 'bagging_freq': 2}. Best is trial 32 with value: 0.8938270024371567.\u001b[0m\n",
      "bagging, val_score: 0.894014:  90%|######### | 9/10 [29:58<03:25, 205.28s/it]"
     ]
    },
    {
     "name": "stdout",
     "output_type": "stream",
     "text": [
      "[100]\tcv_agg's auc: 0.893618 + 0.0010078\n",
      "[200]\tcv_agg's auc: 0.893304 + 0.00106356\n",
      "[300]\tcv_agg's auc: 0.892819 + 0.000995975\n",
      "[400]\tcv_agg's auc: 0.892131 + 0.00104106\n",
      "[500]\tcv_agg's auc: 0.891611 + 0.00094958\n",
      "[600]\tcv_agg's auc: 0.891091 + 0.000982982\n",
      "[700]\tcv_agg's auc: 0.890531 + 0.000931819\n",
      "[800]\tcv_agg's auc: 0.890147 + 0.000908532\n",
      "[900]\tcv_agg's auc: 0.889728 + 0.000921711\n",
      "[1000]\tcv_agg's auc: 0.889452 + 0.000953373\n"
     ]
    },
    {
     "name": "stderr",
     "output_type": "stream",
     "text": [
      "bagging, val_score: 0.894014: 100%|##########| 10/10 [33:22<00:00, 204.96s/it]\u001b[32m[I 2021-03-01 22:16:57,460]\u001b[0m Trial 36 finished with value: 0.8936551320415062 and parameters: {'bagging_fraction': 0.935417357098156, 'bagging_freq': 5}. Best is trial 32 with value: 0.8938270024371567.\u001b[0m\n",
      "bagging, val_score: 0.894014: 100%|##########| 10/10 [33:22<00:00, 200.24s/it]\n",
      "feature_fraction_stage2, val_score: 0.894014:   0%|          | 0/3 [00:00<?, ?it/s]"
     ]
    },
    {
     "name": "stdout",
     "output_type": "stream",
     "text": [
      "[100]\tcv_agg's auc: 0.893622 + 0.000935897\n",
      "[200]\tcv_agg's auc: 0.893347 + 0.000870238\n",
      "[300]\tcv_agg's auc: 0.892714 + 0.000872038\n",
      "[400]\tcv_agg's auc: 0.892218 + 0.000768307\n",
      "[500]\tcv_agg's auc: 0.891643 + 0.00087231\n",
      "[600]\tcv_agg's auc: 0.89113 + 0.000887956\n",
      "[700]\tcv_agg's auc: 0.890581 + 0.000848124\n",
      "[800]\tcv_agg's auc: 0.89019 + 0.000883585\n",
      "[900]\tcv_agg's auc: 0.889824 + 0.000768375\n",
      "[1000]\tcv_agg's auc: 0.889503 + 0.000727973\n"
     ]
    },
    {
     "name": "stderr",
     "output_type": "stream",
     "text": [
      "feature_fraction_stage2, val_score: 0.894014:  33%|###3      | 1/3 [02:34<05:08, 154.07s/it]\u001b[32m[I 2021-03-01 22:19:31,540]\u001b[0m Trial 37 finished with value: 0.8937017037806951 and parameters: {'feature_fraction': 0.48000000000000004}. Best is trial 37 with value: 0.8937017037806951.\u001b[0m\n",
      "feature_fraction_stage2, val_score: 0.894014:  33%|###3      | 1/3 [02:34<05:08, 154.07s/it]"
     ]
    },
    {
     "name": "stdout",
     "output_type": "stream",
     "text": [
      "[100]\tcv_agg's auc: 0.893925 + 0.00103516\n",
      "[200]\tcv_agg's auc: 0.893668 + 0.0011027\n",
      "[300]\tcv_agg's auc: 0.893069 + 0.00106302\n",
      "[400]\tcv_agg's auc: 0.892411 + 0.00101582\n",
      "[500]\tcv_agg's auc: 0.891943 + 0.000998442\n",
      "[600]\tcv_agg's auc: 0.891499 + 0.000937317\n",
      "[700]\tcv_agg's auc: 0.891016 + 0.000891676\n",
      "[800]\tcv_agg's auc: 0.890569 + 0.000832826\n",
      "[900]\tcv_agg's auc: 0.890207 + 0.000740288\n",
      "[1000]\tcv_agg's auc: 0.889904 + 0.000696831\n"
     ]
    },
    {
     "name": "stderr",
     "output_type": "stream",
     "text": [
      "feature_fraction_stage2, val_score: 0.894014:  67%|######6   | 2/3 [05:00<02:29, 149.58s/it]\u001b[32m[I 2021-03-01 22:21:57,974]\u001b[0m Trial 38 finished with value: 0.8940136686960963 and parameters: {'feature_fraction': 0.41600000000000004}. Best is trial 38 with value: 0.8940136686960963.\u001b[0m\n",
      "feature_fraction_stage2, val_score: 0.894014:  67%|######6   | 2/3 [05:00<02:29, 149.58s/it]"
     ]
    },
    {
     "name": "stdout",
     "output_type": "stream",
     "text": [
      "[100]\tcv_agg's auc: 0.893626 + 0.000991873\n",
      "[200]\tcv_agg's auc: 0.893324 + 0.00109618\n",
      "[300]\tcv_agg's auc: 0.892752 + 0.00111337\n",
      "[400]\tcv_agg's auc: 0.892245 + 0.00100141\n",
      "[500]\tcv_agg's auc: 0.891685 + 0.000969748\n",
      "[600]\tcv_agg's auc: 0.891187 + 0.000904537\n",
      "[700]\tcv_agg's auc: 0.890663 + 0.000885266\n",
      "[800]\tcv_agg's auc: 0.890226 + 0.000965216\n",
      "[900]\tcv_agg's auc: 0.889912 + 0.000902415\n",
      "[1000]\tcv_agg's auc: 0.889548 + 0.000942172\n"
     ]
    },
    {
     "name": "stderr",
     "output_type": "stream",
     "text": [
      "feature_fraction_stage2, val_score: 0.894014: 100%|##########| 3/3 [07:31<00:00, 150.21s/it]\u001b[32m[I 2021-03-01 22:24:28,940]\u001b[0m Trial 39 finished with value: 0.8936518276011703 and parameters: {'feature_fraction': 0.44800000000000006}. Best is trial 38 with value: 0.8940136686960963.\u001b[0m\n",
      "feature_fraction_stage2, val_score: 0.894014: 100%|##########| 3/3 [07:31<00:00, 150.49s/it]\n",
      "regularization_factors, val_score: 0.894014:   0%|          | 0/20 [00:00<?, ?it/s]"
     ]
    },
    {
     "name": "stdout",
     "output_type": "stream",
     "text": [
      "[100]\tcv_agg's auc: 0.893813 + 0.00106182\n",
      "[200]\tcv_agg's auc: 0.893768 + 0.000985256\n",
      "[300]\tcv_agg's auc: 0.893163 + 0.00106105\n",
      "[400]\tcv_agg's auc: 0.892543 + 0.00106903\n",
      "[500]\tcv_agg's auc: 0.891995 + 0.00105564\n",
      "[600]\tcv_agg's auc: 0.891594 + 0.00092735\n",
      "[700]\tcv_agg's auc: 0.891098 + 0.000914139\n",
      "[800]\tcv_agg's auc: 0.89084 + 0.000854827\n",
      "[900]\tcv_agg's auc: 0.890525 + 0.000833611\n",
      "[1000]\tcv_agg's auc: 0.890187 + 0.000810796\n"
     ]
    },
    {
     "name": "stderr",
     "output_type": "stream",
     "text": [
      "regularization_factors, val_score: 0.894014:   5%|5         | 1/20 [02:28<47:05, 148.70s/it]\u001b[32m[I 2021-03-01 22:26:57,650]\u001b[0m Trial 40 finished with value: 0.8939529756069149 and parameters: {'lambda_l1': 1.8468808742781e-07, 'lambda_l2': 0.04258627542281902}. Best is trial 40 with value: 0.8939529756069149.\u001b[0m\n",
      "regularization_factors, val_score: 0.894014:   5%|5         | 1/20 [02:28<47:05, 148.70s/it]"
     ]
    },
    {
     "name": "stdout",
     "output_type": "stream",
     "text": [
      "[100]\tcv_agg's auc: 0.893923 + 0.00100005\n",
      "[200]\tcv_agg's auc: 0.893586 + 0.000847416\n",
      "[300]\tcv_agg's auc: 0.893088 + 0.000899806\n",
      "[400]\tcv_agg's auc: 0.892461 + 0.000910198\n",
      "[500]\tcv_agg's auc: 0.891885 + 0.00087604\n",
      "[600]\tcv_agg's auc: 0.891407 + 0.000814881\n",
      "[700]\tcv_agg's auc: 0.890865 + 0.000730105\n",
      "[800]\tcv_agg's auc: 0.890493 + 0.000725965\n",
      "[900]\tcv_agg's auc: 0.890145 + 0.000686897\n",
      "[1000]\tcv_agg's auc: 0.889844 + 0.00073946\n"
     ]
    },
    {
     "name": "stderr",
     "output_type": "stream",
     "text": [
      "regularization_factors, val_score: 0.894014:  10%|#         | 2/20 [04:58<44:47, 149.28s/it]\u001b[32m[I 2021-03-01 22:29:27,340]\u001b[0m Trial 41 finished with value: 0.8939887680660175 and parameters: {'lambda_l1': 1.4587389713757658e-05, 'lambda_l2': 1.0117212633147222e-08}. Best is trial 41 with value: 0.8939887680660175.\u001b[0m\n",
      "regularization_factors, val_score: 0.894014:  10%|#         | 2/20 [04:58<44:47, 149.28s/it]"
     ]
    },
    {
     "name": "stdout",
     "output_type": "stream",
     "text": [
      "[100]\tcv_agg's auc: 0.893885 + 0.000999351\n",
      "[200]\tcv_agg's auc: 0.893588 + 0.000960823\n",
      "[300]\tcv_agg's auc: 0.893111 + 0.000875525\n",
      "[400]\tcv_agg's auc: 0.892427 + 0.000930018\n",
      "[500]\tcv_agg's auc: 0.891936 + 0.000878306\n",
      "[600]\tcv_agg's auc: 0.891471 + 0.00084282\n",
      "[700]\tcv_agg's auc: 0.891045 + 0.0008032\n",
      "[800]\tcv_agg's auc: 0.890607 + 0.000838548\n",
      "[900]\tcv_agg's auc: 0.890222 + 0.000892394\n",
      "[1000]\tcv_agg's auc: 0.889896 + 0.000869085\n"
     ]
    },
    {
     "name": "stderr",
     "output_type": "stream",
     "text": [
      "regularization_factors, val_score: 0.894014:  15%|#5        | 3/20 [07:28<42:21, 149.50s/it]\u001b[32m[I 2021-03-01 22:31:57,090]\u001b[0m Trial 42 finished with value: 0.8939169633254108 and parameters: {'lambda_l1': 2.6020726548543603e-08, 'lambda_l2': 0.0006895148221545707}. Best is trial 41 with value: 0.8939887680660175.\u001b[0m\n",
      "regularization_factors, val_score: 0.894014:  15%|#5        | 3/20 [07:28<42:21, 149.50s/it]"
     ]
    },
    {
     "name": "stdout",
     "output_type": "stream",
     "text": [
      "[100]\tcv_agg's auc: 0.894215 + 0.00104465\n",
      "[200]\tcv_agg's auc: 0.894203 + 0.00103975\n",
      "[300]\tcv_agg's auc: 0.893783 + 0.000971183\n",
      "[400]\tcv_agg's auc: 0.893237 + 0.0009313\n",
      "[500]\tcv_agg's auc: 0.892636 + 0.000945017\n",
      "[600]\tcv_agg's auc: 0.892093 + 0.000890606\n",
      "[700]\tcv_agg's auc: 0.891478 + 0.000872465\n",
      "[800]\tcv_agg's auc: 0.891022 + 0.000854628\n",
      "[900]\tcv_agg's auc: 0.890652 + 0.000841808\n",
      "[1000]\tcv_agg's auc: 0.890258 + 0.000862083\n"
     ]
    },
    {
     "name": "stderr",
     "output_type": "stream",
     "text": [
      "regularization_factors, val_score: 0.894398:  20%|##        | 4/20 [10:09<41:08, 154.28s/it]\u001b[32m[I 2021-03-01 22:34:38,698]\u001b[0m Trial 43 finished with value: 0.8943983961131282 and parameters: {'lambda_l1': 1.713633113385562, 'lambda_l2': 0.013197448979584324}. Best is trial 43 with value: 0.8943983961131282.\u001b[0m\n",
      "regularization_factors, val_score: 0.894398:  20%|##        | 4/20 [10:09<41:08, 154.28s/it]"
     ]
    },
    {
     "name": "stdout",
     "output_type": "stream",
     "text": [
      "[100]\tcv_agg's auc: 0.894052 + 0.00112822\n",
      "[200]\tcv_agg's auc: 0.893943 + 0.00123926\n",
      "[300]\tcv_agg's auc: 0.893336 + 0.00126381\n",
      "[400]\tcv_agg's auc: 0.892784 + 0.00124375\n",
      "[500]\tcv_agg's auc: 0.892206 + 0.00115235\n",
      "[600]\tcv_agg's auc: 0.89171 + 0.00103526\n",
      "[700]\tcv_agg's auc: 0.891271 + 0.00101038\n",
      "[800]\tcv_agg's auc: 0.89086 + 0.000961588\n",
      "[900]\tcv_agg's auc: 0.890463 + 0.00100562\n",
      "[1000]\tcv_agg's auc: 0.890169 + 0.00106071\n"
     ]
    },
    {
     "name": "stderr",
     "output_type": "stream",
     "text": [
      "regularization_factors, val_score: 0.894398:  25%|##5       | 5/20 [12:46<38:50, 155.35s/it]\u001b[32m[I 2021-03-01 22:37:15,941]\u001b[0m Trial 44 finished with value: 0.8941764423643559 and parameters: {'lambda_l1': 0.9139522371847734, 'lambda_l2': 5.617337130126169e-07}. Best is trial 43 with value: 0.8943983961131282.\u001b[0m\n",
      "regularization_factors, val_score: 0.894398:  25%|##5       | 5/20 [12:46<38:50, 155.35s/it]"
     ]
    },
    {
     "name": "stdout",
     "output_type": "stream",
     "text": [
      "[100]\tcv_agg's auc: 0.89406 + 0.000955084\n",
      "[200]\tcv_agg's auc: 0.894024 + 0.0010639\n",
      "[300]\tcv_agg's auc: 0.893601 + 0.00100002\n",
      "[400]\tcv_agg's auc: 0.89304 + 0.000948724\n",
      "[500]\tcv_agg's auc: 0.89256 + 0.000941061\n",
      "[600]\tcv_agg's auc: 0.891975 + 0.000950727\n",
      "[700]\tcv_agg's auc: 0.891564 + 0.00091195\n",
      "[800]\tcv_agg's auc: 0.891101 + 0.000816983\n",
      "[900]\tcv_agg's auc: 0.890702 + 0.000791783\n",
      "[1000]\tcv_agg's auc: 0.890328 + 0.000786764\n"
     ]
    },
    {
     "name": "stderr",
     "output_type": "stream",
     "text": [
      "regularization_factors, val_score: 0.894398:  30%|###       | 6/20 [15:20<36:08, 154.87s/it]\u001b[32m[I 2021-03-01 22:39:49,887]\u001b[0m Trial 45 finished with value: 0.894292049609519 and parameters: {'lambda_l1': 0.6434459099728398, 'lambda_l2': 0.00013980289526300215}. Best is trial 43 with value: 0.8943983961131282.\u001b[0m\n",
      "regularization_factors, val_score: 0.894398:  30%|###       | 6/20 [15:20<36:08, 154.87s/it]"
     ]
    },
    {
     "name": "stdout",
     "output_type": "stream",
     "text": [
      "[100]\tcv_agg's auc: 0.893987 + 0.00107984\n",
      "[200]\tcv_agg's auc: 0.893886 + 0.00103909\n",
      "[300]\tcv_agg's auc: 0.893312 + 0.00096024\n",
      "[400]\tcv_agg's auc: 0.892855 + 0.000851032\n",
      "[500]\tcv_agg's auc: 0.89232 + 0.000746094\n",
      "[600]\tcv_agg's auc: 0.891845 + 0.000676864\n",
      "[700]\tcv_agg's auc: 0.89144 + 0.000682137\n",
      "[800]\tcv_agg's auc: 0.890995 + 0.000620441\n",
      "[900]\tcv_agg's auc: 0.890631 + 0.000606145\n",
      "[1000]\tcv_agg's auc: 0.890358 + 0.000528845\n"
     ]
    },
    {
     "name": "stderr",
     "output_type": "stream",
     "text": [
      "regularization_factors, val_score: 0.894398:  35%|###5      | 7/20 [17:52<33:21, 153.93s/it]\u001b[32m[I 2021-03-01 22:42:21,869]\u001b[0m Trial 46 finished with value: 0.8941565822844092 and parameters: {'lambda_l1': 6.361697700237269e-05, 'lambda_l2': 0.7071164738058185}. Best is trial 43 with value: 0.8943983961131282.\u001b[0m\n",
      "regularization_factors, val_score: 0.894398:  35%|###5      | 7/20 [17:52<33:21, 153.93s/it]"
     ]
    },
    {
     "name": "stdout",
     "output_type": "stream",
     "text": [
      "[100]\tcv_agg's auc: 0.893923 + 0.00100005\n",
      "[200]\tcv_agg's auc: 0.893541 + 0.000904438\n",
      "[300]\tcv_agg's auc: 0.892959 + 0.000935783\n",
      "[400]\tcv_agg's auc: 0.892341 + 0.000948598\n",
      "[500]\tcv_agg's auc: 0.891837 + 0.000942026\n",
      "[600]\tcv_agg's auc: 0.891308 + 0.000947005\n",
      "[700]\tcv_agg's auc: 0.890786 + 0.000881152\n",
      "[800]\tcv_agg's auc: 0.890477 + 0.000808718\n",
      "[900]\tcv_agg's auc: 0.890206 + 0.00080617\n",
      "[1000]\tcv_agg's auc: 0.88992 + 0.000796867\n"
     ]
    },
    {
     "name": "stderr",
     "output_type": "stream",
     "text": [
      "regularization_factors, val_score: 0.894398:  40%|####      | 8/20 [20:23<30:34, 152.90s/it]\u001b[32m[I 2021-03-01 22:44:52,567]\u001b[0m Trial 47 finished with value: 0.8939803283977025 and parameters: {'lambda_l1': 2.2538922767332286e-06, 'lambda_l2': 4.708874391799793e-05}. Best is trial 43 with value: 0.8943983961131282.\u001b[0m\n",
      "regularization_factors, val_score: 0.894398:  40%|####      | 8/20 [20:23<30:34, 152.90s/it]"
     ]
    },
    {
     "name": "stdout",
     "output_type": "stream",
     "text": [
      "[100]\tcv_agg's auc: 0.893887 + 0.00109903\n",
      "[200]\tcv_agg's auc: 0.893799 + 0.00109869\n",
      "[300]\tcv_agg's auc: 0.893178 + 0.00102707\n",
      "[400]\tcv_agg's auc: 0.892639 + 0.00102772\n",
      "[500]\tcv_agg's auc: 0.892038 + 0.000973482\n",
      "[600]\tcv_agg's auc: 0.891542 + 0.000901947\n",
      "[700]\tcv_agg's auc: 0.891055 + 0.000863946\n",
      "[800]\tcv_agg's auc: 0.890617 + 0.000841163\n",
      "[900]\tcv_agg's auc: 0.890296 + 0.000841134\n",
      "[1000]\tcv_agg's auc: 0.890061 + 0.000760309\n"
     ]
    },
    {
     "name": "stderr",
     "output_type": "stream",
     "text": [
      "regularization_factors, val_score: 0.894398:  45%|####5     | 9/20 [22:54<27:55, 152.28s/it]\u001b[32m[I 2021-03-01 22:47:23,477]\u001b[0m Trial 48 finished with value: 0.8940869987865485 and parameters: {'lambda_l1': 0.05368297860525229, 'lambda_l2': 0.003456858084905268}. Best is trial 43 with value: 0.8943983961131282.\u001b[0m\n",
      "regularization_factors, val_score: 0.894398:  45%|####5     | 9/20 [22:54<27:55, 152.28s/it]"
     ]
    },
    {
     "name": "stdout",
     "output_type": "stream",
     "text": [
      "[100]\tcv_agg's auc: 0.893784 + 0.0011674\n",
      "[200]\tcv_agg's auc: 0.893559 + 0.0011577\n",
      "[300]\tcv_agg's auc: 0.892982 + 0.00119721\n",
      "[400]\tcv_agg's auc: 0.892416 + 0.0012393\n",
      "[500]\tcv_agg's auc: 0.891858 + 0.00122927\n",
      "[600]\tcv_agg's auc: 0.891321 + 0.00105701\n",
      "[700]\tcv_agg's auc: 0.890885 + 0.000954436\n",
      "[800]\tcv_agg's auc: 0.890472 + 0.000934865\n",
      "[900]\tcv_agg's auc: 0.890169 + 0.000907479\n",
      "[1000]\tcv_agg's auc: 0.889762 + 0.000882835\n"
     ]
    },
    {
     "name": "stderr",
     "output_type": "stream",
     "text": [
      "regularization_factors, val_score: 0.894398:  50%|#####     | 10/20 [25:25<25:19, 151.97s/it]\u001b[32m[I 2021-03-01 22:49:54,745]\u001b[0m Trial 49 finished with value: 0.893865177978666 and parameters: {'lambda_l1': 0.11566500655127733, 'lambda_l2': 1.0771482376820413e-06}. Best is trial 43 with value: 0.8943983961131282.\u001b[0m\n",
      "regularization_factors, val_score: 0.894398:  50%|#####     | 10/20 [25:25<25:19, 151.97s/it]"
     ]
    },
    {
     "name": "stdout",
     "output_type": "stream",
     "text": [
      "[100]\tcv_agg's auc: 0.893976 + 0.00108767\n",
      "[200]\tcv_agg's auc: 0.893868 + 0.00109508\n",
      "[300]\tcv_agg's auc: 0.893407 + 0.00113916\n",
      "[400]\tcv_agg's auc: 0.8929 + 0.00106925\n",
      "[500]\tcv_agg's auc: 0.892359 + 0.00102478\n",
      "[600]\tcv_agg's auc: 0.891895 + 0.000914941\n",
      "[700]\tcv_agg's auc: 0.891403 + 0.000966873\n",
      "[800]\tcv_agg's auc: 0.890962 + 0.00097178\n",
      "[900]\tcv_agg's auc: 0.890577 + 0.000983607\n",
      "[1000]\tcv_agg's auc: 0.890217 + 0.00093394\n"
     ]
    },
    {
     "name": "stderr",
     "output_type": "stream",
     "text": [
      "regularization_factors, val_score: 0.894398:  55%|#####5    | 11/20 [28:08<23:18, 155.39s/it]\u001b[32m[I 2021-03-01 22:52:37,892]\u001b[0m Trial 50 finished with value: 0.894175445730261 and parameters: {'lambda_l1': 0.0032272558056322524, 'lambda_l2': 0.3665826208834415}. Best is trial 43 with value: 0.8943983961131282.\u001b[0m\n",
      "regularization_factors, val_score: 0.894398:  55%|#####5    | 11/20 [28:08<23:18, 155.39s/it]"
     ]
    },
    {
     "name": "stdout",
     "output_type": "stream",
     "text": [
      "[100]\tcv_agg's auc: 0.894312 + 0.00103249\n",
      "[200]\tcv_agg's auc: 0.895036 + 0.000918516\n",
      "[300]\tcv_agg's auc: 0.894583 + 0.000870391\n",
      "[400]\tcv_agg's auc: 0.893899 + 0.000827082\n",
      "[500]\tcv_agg's auc: 0.893231 + 0.000838051\n",
      "[600]\tcv_agg's auc: 0.892525 + 0.000750109\n",
      "[700]\tcv_agg's auc: 0.891816 + 0.000718853\n",
      "[800]\tcv_agg's auc: 0.891227 + 0.000716166\n",
      "[900]\tcv_agg's auc: 0.890699 + 0.000688401\n",
      "[1000]\tcv_agg's auc: 0.890171 + 0.000693093\n"
     ]
    },
    {
     "name": "stderr",
     "output_type": "stream",
     "text": [
      "regularization_factors, val_score: 0.895099:  60%|######    | 12/20 [31:14<21:56, 164.60s/it]\u001b[32m[I 2021-03-01 22:55:43,553]\u001b[0m Trial 51 finished with value: 0.8950986360077963 and parameters: {'lambda_l1': 7.959176411127531, 'lambda_l2': 5.381687699546818e-05}. Best is trial 51 with value: 0.8950986360077963.\u001b[0m\n",
      "regularization_factors, val_score: 0.895099:  60%|######    | 12/20 [31:14<21:56, 164.60s/it]"
     ]
    },
    {
     "name": "stdout",
     "output_type": "stream",
     "text": [
      "[100]\tcv_agg's auc: 0.894327 + 0.000935251\n",
      "[200]\tcv_agg's auc: 0.894902 + 0.00090204\n",
      "[300]\tcv_agg's auc: 0.894516 + 0.000864968\n",
      "[400]\tcv_agg's auc: 0.893938 + 0.000846196\n",
      "[500]\tcv_agg's auc: 0.893239 + 0.000755049\n",
      "[600]\tcv_agg's auc: 0.892567 + 0.000788346\n",
      "[700]\tcv_agg's auc: 0.891876 + 0.000780269\n",
      "[800]\tcv_agg's auc: 0.891266 + 0.000710205\n",
      "[900]\tcv_agg's auc: 0.89074 + 0.000653345\n",
      "[1000]\tcv_agg's auc: 0.890178 + 0.000628579\n"
     ]
    },
    {
     "name": "stderr",
     "output_type": "stream",
     "text": [
      "regularization_factors, val_score: 0.895099:  65%|######5   | 13/20 [34:19<19:54, 170.63s/it]\u001b[32m[I 2021-03-01 22:58:48,056]\u001b[0m Trial 52 finished with value: 0.8949889031869477 and parameters: {'lambda_l1': 7.827396880079509, 'lambda_l2': 2.456325218511004e-06}. Best is trial 51 with value: 0.8950986360077963.\u001b[0m\n",
      "regularization_factors, val_score: 0.895099:  65%|######5   | 13/20 [34:19<19:54, 170.63s/it]"
     ]
    },
    {
     "name": "stdout",
     "output_type": "stream",
     "text": [
      "[100]\tcv_agg's auc: 0.894367 + 0.00109351\n",
      "[200]\tcv_agg's auc: 0.895013 + 0.00103399\n",
      "[300]\tcv_agg's auc: 0.894649 + 0.000868972\n",
      "[400]\tcv_agg's auc: 0.894018 + 0.000800284\n",
      "[500]\tcv_agg's auc: 0.893384 + 0.000785681\n",
      "[600]\tcv_agg's auc: 0.892742 + 0.00074139\n",
      "[700]\tcv_agg's auc: 0.892027 + 0.000737166\n",
      "[800]\tcv_agg's auc: 0.891455 + 0.000719996\n",
      "[900]\tcv_agg's auc: 0.890877 + 0.000706728\n",
      "[1000]\tcv_agg's auc: 0.890411 + 0.000688214\n"
     ]
    },
    {
     "name": "stderr",
     "output_type": "stream",
     "text": [
      "regularization_factors, val_score: 0.895099:  70%|#######   | 14/20 [37:39<17:58, 179.71s/it]\u001b[32m[I 2021-03-01 23:02:08,738]\u001b[0m Trial 53 finished with value: 0.8950576934183282 and parameters: {'lambda_l1': 9.267950540821074, 'lambda_l2': 3.909141386439867e-06}. Best is trial 51 with value: 0.8950986360077963.\u001b[0m\n",
      "regularization_factors, val_score: 0.895099:  70%|#######   | 14/20 [37:39<17:58, 179.71s/it]"
     ]
    },
    {
     "name": "stdout",
     "output_type": "stream",
     "text": [
      "[100]\tcv_agg's auc: 0.893827 + 0.00116343\n",
      "[200]\tcv_agg's auc: 0.893642 + 0.00116367\n",
      "[300]\tcv_agg's auc: 0.893045 + 0.00114455\n",
      "[400]\tcv_agg's auc: 0.892502 + 0.0011699\n",
      "[500]\tcv_agg's auc: 0.892021 + 0.00111902\n",
      "[600]\tcv_agg's auc: 0.891515 + 0.00104833\n",
      "[700]\tcv_agg's auc: 0.891062 + 0.000963754\n",
      "[800]\tcv_agg's auc: 0.890673 + 0.000887392\n",
      "[900]\tcv_agg's auc: 0.890229 + 0.00082473\n",
      "[1000]\tcv_agg's auc: 0.889847 + 0.000795658\n"
     ]
    },
    {
     "name": "stderr",
     "output_type": "stream",
     "text": [
      "regularization_factors, val_score: 0.895099:  75%|#######5  | 15/20 [40:11<14:16, 171.21s/it]\u001b[32m[I 2021-03-01 23:04:40,266]\u001b[0m Trial 54 finished with value: 0.8939829946207348 and parameters: {'lambda_l1': 0.002048677029977894, 'lambda_l2': 1.2445836515173747e-08}. Best is trial 51 with value: 0.8950986360077963.\u001b[0m\n",
      "regularization_factors, val_score: 0.895099:  75%|#######5  | 15/20 [40:11<14:16, 171.21s/it]"
     ]
    },
    {
     "name": "stdout",
     "output_type": "stream",
     "text": [
      "[100]\tcv_agg's auc: 0.894326 + 0.00111121\n",
      "[200]\tcv_agg's auc: 0.894746 + 0.00109588\n",
      "[300]\tcv_agg's auc: 0.894238 + 0.000956982\n",
      "[400]\tcv_agg's auc: 0.893547 + 0.000933338\n",
      "[500]\tcv_agg's auc: 0.892903 + 0.000942604\n",
      "[600]\tcv_agg's auc: 0.892305 + 0.000941896\n",
      "[700]\tcv_agg's auc: 0.891726 + 0.000941243\n",
      "[800]\tcv_agg's auc: 0.891127 + 0.000875335\n",
      "[900]\tcv_agg's auc: 0.890535 + 0.000833665\n",
      "[1000]\tcv_agg's auc: 0.890048 + 0.000791803\n"
     ]
    },
    {
     "name": "stderr",
     "output_type": "stream",
     "text": [
      "regularization_factors, val_score: 0.895099:  80%|########  | 16/20 [43:08<11:31, 172.98s/it]\u001b[32m[I 2021-03-01 23:07:37,353]\u001b[0m Trial 55 finished with value: 0.8948305046480785 and parameters: {'lambda_l1': 5.032670959376451, 'lambda_l2': 1.5787981985942583e-05}. Best is trial 51 with value: 0.8950986360077963.\u001b[0m\n",
      "regularization_factors, val_score: 0.895099:  80%|########  | 16/20 [43:08<11:31, 172.98s/it]"
     ]
    },
    {
     "name": "stdout",
     "output_type": "stream",
     "text": [
      "[100]\tcv_agg's auc: 0.89382 + 0.00118382\n",
      "[200]\tcv_agg's auc: 0.89345 + 0.0011405\n",
      "[300]\tcv_agg's auc: 0.892842 + 0.00106132\n",
      "[400]\tcv_agg's auc: 0.892266 + 0.000935918\n",
      "[500]\tcv_agg's auc: 0.891638 + 0.000784829\n",
      "[600]\tcv_agg's auc: 0.891071 + 0.000768291\n",
      "[700]\tcv_agg's auc: 0.890593 + 0.000838093\n",
      "[800]\tcv_agg's auc: 0.890162 + 0.000778206\n",
      "[900]\tcv_agg's auc: 0.88987 + 0.000713608\n",
      "[1000]\tcv_agg's auc: 0.889516 + 0.000676984\n"
     ]
    },
    {
     "name": "stderr",
     "output_type": "stream",
     "text": [
      "regularization_factors, val_score: 0.895099:  85%|########5 | 17/20 [45:40<08:20, 166.74s/it]\u001b[32m[I 2021-03-01 23:10:09,589]\u001b[0m Trial 56 finished with value: 0.8938949575637256 and parameters: {'lambda_l1': 0.028194804281324017, 'lambda_l2': 1.324085161500667e-07}. Best is trial 51 with value: 0.8950986360077963.\u001b[0m\n",
      "regularization_factors, val_score: 0.895099:  85%|########5 | 17/20 [45:40<08:20, 166.74s/it]"
     ]
    },
    {
     "name": "stdout",
     "output_type": "stream",
     "text": [
      "[100]\tcv_agg's auc: 0.89385 + 0.001154\n",
      "[200]\tcv_agg's auc: 0.893621 + 0.00124193\n",
      "[300]\tcv_agg's auc: 0.893055 + 0.00122887\n",
      "[400]\tcv_agg's auc: 0.892405 + 0.00121588\n",
      "[500]\tcv_agg's auc: 0.891997 + 0.00115395\n",
      "[600]\tcv_agg's auc: 0.891405 + 0.00118121\n",
      "[700]\tcv_agg's auc: 0.890833 + 0.00114369\n",
      "[800]\tcv_agg's auc: 0.890348 + 0.00119666\n",
      "[900]\tcv_agg's auc: 0.890017 + 0.00108937\n",
      "[1000]\tcv_agg's auc: 0.889694 + 0.00113081\n"
     ]
    },
    {
     "name": "stderr",
     "output_type": "stream",
     "text": [
      "regularization_factors, val_score: 0.895099:  90%|######### | 18/20 [48:12<05:24, 162.16s/it]\u001b[32m[I 2021-03-01 23:12:41,089]\u001b[0m Trial 57 finished with value: 0.894011409787554 and parameters: {'lambda_l1': 0.00209440837975483, 'lambda_l2': 1.2394324682222313e-05}. Best is trial 51 with value: 0.8950986360077963.\u001b[0m\n",
      "regularization_factors, val_score: 0.895099:  90%|######### | 18/20 [48:12<05:24, 162.16s/it]"
     ]
    },
    {
     "name": "stdout",
     "output_type": "stream",
     "text": [
      "[100]\tcv_agg's auc: 0.894317 + 0.00103708\n",
      "[200]\tcv_agg's auc: 0.894997 + 0.000954095\n",
      "[300]\tcv_agg's auc: 0.894595 + 0.000942348\n",
      "[400]\tcv_agg's auc: 0.893991 + 0.000975794\n",
      "[500]\tcv_agg's auc: 0.893292 + 0.000952978\n",
      "[600]\tcv_agg's auc: 0.89257 + 0.000881041\n",
      "[700]\tcv_agg's auc: 0.891876 + 0.000861805\n",
      "[800]\tcv_agg's auc: 0.891313 + 0.00085155\n",
      "[900]\tcv_agg's auc: 0.890768 + 0.000863373\n",
      "[1000]\tcv_agg's auc: 0.890239 + 0.000824956\n"
     ]
    },
    {
     "name": "stderr",
     "output_type": "stream",
     "text": [
      "regularization_factors, val_score: 0.895099:  95%|#########5| 19/20 [51:19<02:49, 169.61s/it]\u001b[32m[I 2021-03-01 23:15:48,059]\u001b[0m Trial 58 finished with value: 0.8950445924358578 and parameters: {'lambda_l1': 8.119605837537806, 'lambda_l2': 6.859442116456471e-08}. Best is trial 51 with value: 0.8950986360077963.\u001b[0m\n",
      "regularization_factors, val_score: 0.895099:  95%|#########5| 19/20 [51:19<02:49, 169.61s/it]"
     ]
    },
    {
     "name": "stdout",
     "output_type": "stream",
     "text": [
      "[100]\tcv_agg's auc: 0.893999 + 0.00100435\n",
      "[200]\tcv_agg's auc: 0.89382 + 0.00087246\n",
      "[300]\tcv_agg's auc: 0.893255 + 0.000715368\n",
      "[400]\tcv_agg's auc: 0.892724 + 0.000705086\n",
      "[500]\tcv_agg's auc: 0.892198 + 0.000707832\n",
      "[600]\tcv_agg's auc: 0.89168 + 0.000698431\n",
      "[700]\tcv_agg's auc: 0.891298 + 0.000622709\n",
      "[800]\tcv_agg's auc: 0.890922 + 0.000613882\n",
      "[900]\tcv_agg's auc: 0.890551 + 0.00056042\n",
      "[1000]\tcv_agg's auc: 0.890221 + 0.000515896\n"
     ]
    },
    {
     "name": "stderr",
     "output_type": "stream",
     "text": [
      "regularization_factors, val_score: 0.895099: 100%|##########| 20/20 [53:51<00:00, 164.58s/it]\u001b[32m[I 2021-03-01 23:18:20,925]\u001b[0m Trial 59 finished with value: 0.894123261641874 and parameters: {'lambda_l1': 0.19572503108878675, 'lambda_l2': 0.0006790836403329089}. Best is trial 51 with value: 0.8950986360077963.\u001b[0m\n",
      "regularization_factors, val_score: 0.895099: 100%|##########| 20/20 [53:51<00:00, 161.60s/it]\n",
      "min_data_in_leaf, val_score: 0.895099:   0%|          | 0/5 [00:00<?, ?it/s]"
     ]
    },
    {
     "name": "stdout",
     "output_type": "stream",
     "text": [
      "[100]\tcv_agg's auc: 0.894318 + 0.00100137\n",
      "[200]\tcv_agg's auc: 0.894946 + 0.000914994\n",
      "[300]\tcv_agg's auc: 0.894524 + 0.00092845\n",
      "[400]\tcv_agg's auc: 0.893957 + 0.000985057\n",
      "[500]\tcv_agg's auc: 0.893166 + 0.000997673\n",
      "[600]\tcv_agg's auc: 0.892513 + 0.000989364\n",
      "[700]\tcv_agg's auc: 0.891764 + 0.000945087\n",
      "[800]\tcv_agg's auc: 0.89115 + 0.000943265\n",
      "[900]\tcv_agg's auc: 0.890639 + 0.000927918\n",
      "[1000]\tcv_agg's auc: 0.890083 + 0.000991796\n"
     ]
    },
    {
     "name": "stderr",
     "output_type": "stream",
     "text": [
      "min_data_in_leaf, val_score: 0.895099:  20%|##        | 1/5 [03:07<12:28, 187.23s/it]\u001b[32m[I 2021-03-01 23:21:28,167]\u001b[0m Trial 60 finished with value: 0.8949895573224191 and parameters: {'min_child_samples': 50}. Best is trial 60 with value: 0.8949895573224191.\u001b[0m\n",
      "min_data_in_leaf, val_score: 0.895099:  20%|##        | 1/5 [03:07<12:28, 187.23s/it]"
     ]
    },
    {
     "name": "stdout",
     "output_type": "stream",
     "text": [
      "[100]\tcv_agg's auc: 0.894353 + 0.001037\n",
      "[200]\tcv_agg's auc: 0.894918 + 0.000973455\n",
      "[300]\tcv_agg's auc: 0.894458 + 0.000900019\n",
      "[400]\tcv_agg's auc: 0.893789 + 0.000919299\n",
      "[500]\tcv_agg's auc: 0.893162 + 0.000890807\n",
      "[600]\tcv_agg's auc: 0.892488 + 0.000911746\n",
      "[700]\tcv_agg's auc: 0.891804 + 0.000831047\n",
      "[800]\tcv_agg's auc: 0.891237 + 0.000814447\n",
      "[900]\tcv_agg's auc: 0.890694 + 0.000770759\n",
      "[1000]\tcv_agg's auc: 0.890181 + 0.000751195\n"
     ]
    },
    {
     "name": "stderr",
     "output_type": "stream",
     "text": [
      "min_data_in_leaf, val_score: 0.895099:  40%|####      | 2/5 [06:14<09:21, 187.08s/it]\u001b[32m[I 2021-03-01 23:24:35,142]\u001b[0m Trial 61 finished with value: 0.8950024289625981 and parameters: {'min_child_samples': 25}. Best is trial 61 with value: 0.8950024289625981.\u001b[0m\n",
      "min_data_in_leaf, val_score: 0.895099:  40%|####      | 2/5 [06:14<09:21, 187.08s/it]"
     ]
    },
    {
     "name": "stdout",
     "output_type": "stream",
     "text": [
      "[100]\tcv_agg's auc: 0.894367 + 0.00108527\n",
      "[200]\tcv_agg's auc: 0.895007 + 0.00103621\n",
      "[300]\tcv_agg's auc: 0.894568 + 0.00107563\n",
      "[400]\tcv_agg's auc: 0.894013 + 0.00116503\n",
      "[500]\tcv_agg's auc: 0.893375 + 0.00105373\n",
      "[600]\tcv_agg's auc: 0.892746 + 0.00104043\n",
      "[700]\tcv_agg's auc: 0.892092 + 0.00102654\n",
      "[800]\tcv_agg's auc: 0.891516 + 0.00105169\n",
      "[900]\tcv_agg's auc: 0.890984 + 0.00102438\n",
      "[1000]\tcv_agg's auc: 0.890437 + 0.00100049\n"
     ]
    },
    {
     "name": "stderr",
     "output_type": "stream",
     "text": [
      "min_data_in_leaf, val_score: 0.895099:  60%|######    | 3/5 [09:19<06:12, 186.23s/it]\u001b[32m[I 2021-03-01 23:27:40,353]\u001b[0m Trial 62 finished with value: 0.8950567220574515 and parameters: {'min_child_samples': 10}. Best is trial 62 with value: 0.8950567220574515.\u001b[0m\n",
      "min_data_in_leaf, val_score: 0.895099:  60%|######    | 3/5 [09:19<06:12, 186.23s/it]"
     ]
    },
    {
     "name": "stdout",
     "output_type": "stream",
     "text": [
      "[100]\tcv_agg's auc: 0.894314 + 0.0010437\n",
      "[200]\tcv_agg's auc: 0.894985 + 0.00109764\n",
      "[300]\tcv_agg's auc: 0.894605 + 0.00107565\n",
      "[400]\tcv_agg's auc: 0.89389 + 0.00101422\n",
      "[500]\tcv_agg's auc: 0.893298 + 0.000959342\n",
      "[600]\tcv_agg's auc: 0.892588 + 0.000979304\n",
      "[700]\tcv_agg's auc: 0.891875 + 0.000978021\n",
      "[800]\tcv_agg's auc: 0.891241 + 0.000992385\n",
      "[900]\tcv_agg's auc: 0.890663 + 0.000988129\n",
      "[1000]\tcv_agg's auc: 0.890131 + 0.00101357\n"
     ]
    },
    {
     "name": "stderr",
     "output_type": "stream",
     "text": [
      "min_data_in_leaf, val_score: 0.895099:  80%|########  | 4/5 [12:29<03:07, 187.85s/it]\u001b[32m[I 2021-03-01 23:30:50,688]\u001b[0m Trial 63 finished with value: 0.8950413305022282 and parameters: {'min_child_samples': 100}. Best is trial 62 with value: 0.8950567220574515.\u001b[0m\n",
      "min_data_in_leaf, val_score: 0.895099:  80%|########  | 4/5 [12:29<03:07, 187.85s/it]"
     ]
    },
    {
     "name": "stdout",
     "output_type": "stream",
     "text": [
      "[100]\tcv_agg's auc: 0.894331 + 0.00102328\n",
      "[200]\tcv_agg's auc: 0.894905 + 0.00103034\n",
      "[300]\tcv_agg's auc: 0.894535 + 0.000876282\n",
      "[400]\tcv_agg's auc: 0.893955 + 0.000865514\n",
      "[500]\tcv_agg's auc: 0.893233 + 0.000879131\n",
      "[600]\tcv_agg's auc: 0.892649 + 0.000844389\n",
      "[700]\tcv_agg's auc: 0.89197 + 0.000854087\n",
      "[800]\tcv_agg's auc: 0.891377 + 0.000819855\n",
      "[900]\tcv_agg's auc: 0.890865 + 0.000813573\n",
      "[1000]\tcv_agg's auc: 0.890334 + 0.000848413\n"
     ]
    },
    {
     "name": "stderr",
     "output_type": "stream",
     "text": [
      "min_data_in_leaf, val_score: 0.895099: 100%|##########| 5/5 [15:34<00:00, 186.87s/it]\u001b[32m[I 2021-03-01 23:33:55,838]\u001b[0m Trial 64 finished with value: 0.8949997457556375 and parameters: {'min_child_samples': 5}. Best is trial 62 with value: 0.8950567220574515.\u001b[0m\n",
      "min_data_in_leaf, val_score: 0.895099: 100%|##########| 5/5 [15:34<00:00, 186.98s/it]"
     ]
    },
    {
     "name": "stdout",
     "output_type": "stream",
     "text": [
      "Best score: 0.8950986360077963\n",
      "Best params: {'objective': 'binary', 'metric': 'auc', 'verbosity': -1, 'boosting_type': 'gbdt', 'feature_pre_filter': False, 'lambda_l1': 7.959176411127531, 'lambda_l2': 5.381687699546818e-05, 'num_leaves': 135, 'feature_fraction': 0.4, 'bagging_fraction': 1.0, 'bagging_freq': 0, 'min_child_samples': 20}\n",
      "  Params: \n",
      "    objective: binary\n",
      "    metric: auc\n",
      "    verbosity: -1\n",
      "    boosting_type: gbdt\n",
      "    feature_pre_filter: False\n",
      "    lambda_l1: 7.959176411127531\n",
      "    lambda_l2: 5.381687699546818e-05\n",
      "    num_leaves: 135\n",
      "    feature_fraction: 0.4\n",
      "    bagging_fraction: 1.0\n",
      "    bagging_freq: 0\n",
      "    min_child_samples: 20\n"
     ]
    },
    {
     "name": "stderr",
     "output_type": "stream",
     "text": [
      "\n"
     ]
    }
   ],
   "source": [
    "dtrain = lgb.Dataset(X,Y,categorical_feature = 'auto')\n",
    "\n",
    "params = {\n",
    "    \"objective\": \"binary\",\n",
    "    \"metric\": \"auc\",\n",
    "    \"verbosity\": -1,\n",
    "    \"boosting_type\": \"gbdt\",\n",
    "}\n",
    "\n",
    "tuner = lgb.LightGBMTunerCV(\n",
    "    params, dtrain, verbose_eval=100, early_stopping_rounds=1000000, folds=kfolds\n",
    ")\n",
    "\n",
    "tuner.run()\n",
    "\n",
    "print(\"Best score:\", tuner.best_score)\n",
    "best_params = tuner.best_params\n",
    "print(\"Best params:\", best_params)\n",
    "print(\"  Params: \")\n",
    "for key, value in best_params.items():\n",
    "    print(\"    {}: {}\".format(key, value))"
   ]
  },
  {
   "cell_type": "markdown",
   "metadata": {
    "papermill": {
     "duration": 0.290221,
     "end_time": "2021-03-01T23:33:56.499509",
     "exception": false,
     "start_time": "2021-03-01T23:33:56.209288",
     "status": "completed"
    },
    "tags": []
   },
   "source": [
    "Inspect the best score for AUC value"
   ]
  },
  {
   "cell_type": "code",
   "execution_count": 7,
   "metadata": {
    "execution": {
     "iopub.execute_input": "2021-03-01T23:33:57.087107Z",
     "iopub.status.busy": "2021-03-01T23:33:57.086043Z",
     "iopub.status.idle": "2021-03-01T23:33:57.089751Z",
     "shell.execute_reply": "2021-03-01T23:33:57.090383Z"
    },
    "papermill": {
     "duration": 0.296619,
     "end_time": "2021-03-01T23:33:57.090591",
     "exception": false,
     "start_time": "2021-03-01T23:33:56.793972",
     "status": "completed"
    },
    "tags": []
   },
   "outputs": [
    {
     "data": {
      "text/plain": [
       "0.8950986360077963"
      ]
     },
     "execution_count": 7,
     "metadata": {},
     "output_type": "execute_result"
    }
   ],
   "source": [
    "tuner.best_score"
   ]
  },
  {
   "cell_type": "markdown",
   "metadata": {
    "papermill": {
     "duration": 0.285428,
     "end_time": "2021-03-01T23:33:57.659964",
     "exception": false,
     "start_time": "2021-03-01T23:33:57.374536",
     "status": "completed"
    },
    "tags": []
   },
   "source": [
    "Assign the best params to a variable"
   ]
  },
  {
   "cell_type": "code",
   "execution_count": 8,
   "metadata": {
    "execution": {
     "iopub.execute_input": "2021-03-01T23:33:58.240480Z",
     "iopub.status.busy": "2021-03-01T23:33:58.239578Z",
     "iopub.status.idle": "2021-03-01T23:33:58.242015Z",
     "shell.execute_reply": "2021-03-01T23:33:58.242471Z"
    },
    "papermill": {
     "duration": 0.295667,
     "end_time": "2021-03-01T23:33:58.242668",
     "exception": false,
     "start_time": "2021-03-01T23:33:57.947001",
     "status": "completed"
    },
    "tags": []
   },
   "outputs": [],
   "source": [
    "params = tuner.best_params"
   ]
  },
  {
   "cell_type": "markdown",
   "metadata": {
    "papermill": {
     "duration": 0.286809,
     "end_time": "2021-03-01T23:33:58.816101",
     "exception": false,
     "start_time": "2021-03-01T23:33:58.529292",
     "status": "completed"
    },
    "tags": []
   },
   "source": [
    "Use these parameters to train a LightGBM model on the entire training dataset \n"
   ]
  },
  {
   "cell_type": "code",
   "execution_count": 9,
   "metadata": {
    "execution": {
     "iopub.execute_input": "2021-03-01T23:33:59.401288Z",
     "iopub.status.busy": "2021-03-01T23:33:59.400605Z",
     "iopub.status.idle": "2021-03-01T23:34:35.684522Z",
     "shell.execute_reply": "2021-03-01T23:34:35.683919Z"
    },
    "papermill": {
     "duration": 36.581133,
     "end_time": "2021-03-01T23:34:35.684701",
     "exception": false,
     "start_time": "2021-03-01T23:33:59.103568",
     "status": "completed"
    },
    "tags": []
   },
   "outputs": [],
   "source": [
    "import lightgbm as lgb\n",
    "id_test = test.id.to_list()\n",
    "model = lgb.train(params, dtrain, num_boost_round=1000)"
   ]
  },
  {
   "cell_type": "markdown",
   "metadata": {
    "papermill": {
     "duration": 0.287407,
     "end_time": "2021-03-01T23:34:36.257463",
     "exception": false,
     "start_time": "2021-03-01T23:34:35.970056",
     "status": "completed"
    },
    "tags": []
   },
   "source": [
    "Predict on the test set and save file. Make sure you set index=False "
   ]
  },
  {
   "cell_type": "code",
   "execution_count": 10,
   "metadata": {
    "execution": {
     "iopub.execute_input": "2021-03-01T23:34:36.843156Z",
     "iopub.status.busy": "2021-03-01T23:34:36.842438Z",
     "iopub.status.idle": "2021-03-01T23:34:52.492902Z",
     "shell.execute_reply": "2021-03-01T23:34:52.492184Z"
    },
    "papermill": {
     "duration": 15.948456,
     "end_time": "2021-03-01T23:34:52.493053",
     "exception": false,
     "start_time": "2021-03-01T23:34:36.544597",
     "status": "completed"
    },
    "tags": []
   },
   "outputs": [],
   "source": [
    "X_test = test[['cont0','cont1','cont2','cont3','cont4','cont5','cont6','cont7','cont8','cont9','cont10','cat0','cat1','cat2','cat3','cat4','cat5','cat6','cat7','cat8','cat9','cat10','cat11','cat12','cat13','cat14','cat15','cat16','cat17','cat18']]\n",
    "preds = model.predict(X_test)\n",
    "resultf = pd.DataFrame()\n",
    "resultf['id'] = id_test\n",
    "resultf['target'] = preds\n",
    "resultf.to_csv('submission.csv',index=False)"
   ]
  },
  {
   "cell_type": "markdown",
   "metadata": {
    "papermill": {
     "duration": 0.283828,
     "end_time": "2021-03-01T23:34:53.061281",
     "exception": false,
     "start_time": "2021-03-01T23:34:52.777453",
     "status": "completed"
    },
    "tags": []
   },
   "source": []
  }
 ],
 "metadata": {
  "kernelspec": {
   "display_name": "Python 3",
   "language": "python",
   "name": "python3"
  },
  "language_info": {
   "codemirror_mode": {
    "name": "ipython",
    "version": 3
   },
   "file_extension": ".py",
   "mimetype": "text/x-python",
   "name": "python",
   "nbconvert_exporter": "python",
   "pygments_lexer": "ipython3",
   "version": "3.7.9"
  },
  "papermill": {
   "default_parameters": {},
   "duration": 10395.956199,
   "end_time": "2021-03-01T23:34:54.058945",
   "environment_variables": {},
   "exception": null,
   "input_path": "__notebook__.ipynb",
   "output_path": "__notebook__.ipynb",
   "parameters": {},
   "start_time": "2021-03-01T20:41:38.102746",
   "version": "2.2.2"
  }
 },
 "nbformat": 4,
 "nbformat_minor": 4
}
