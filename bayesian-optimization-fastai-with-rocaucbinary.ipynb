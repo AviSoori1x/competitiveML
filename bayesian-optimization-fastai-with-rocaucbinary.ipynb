{
 "cells": [
  {
   "cell_type": "markdown",
   "metadata": {
    "papermill": {
     "duration": 0.020637,
     "end_time": "2021-03-02T23:14:17.579104",
     "exception": false,
     "start_time": "2021-03-02T23:14:17.558467",
     "status": "completed"
    },
    "tags": []
   },
   "source": [
    "In this notebook I will be using bayes_opt, a general purpose bayesian optimization framework to optimize hyperparameters of a fastai tabular learner with categorical embedding layers. I will do my best to account for the evaluation metric along the way. The links to the notebooks which this is based on, including Jeremy Howard's lecture, Zachary Mueller's repo and the bayes_opt repo as well as some other resources are provided at the end."
   ]
  },
  {
   "cell_type": "code",
   "execution_count": 1,
   "metadata": {
    "_cell_guid": "b1076dfc-b9ad-4769-8c92-a6c4dae69d19",
    "_uuid": "8f2839f25d086af736a60e9eeb907d3b93b6e0e5",
    "execution": {
     "iopub.execute_input": "2021-03-02T23:14:17.624093Z",
     "iopub.status.busy": "2021-03-02T23:14:17.623566Z",
     "iopub.status.idle": "2021-03-02T23:14:27.519289Z",
     "shell.execute_reply": "2021-03-02T23:14:27.518005Z"
    },
    "papermill": {
     "duration": 9.921244,
     "end_time": "2021-03-02T23:14:27.519541",
     "exception": false,
     "start_time": "2021-03-02T23:14:17.598297",
     "status": "completed"
    },
    "tags": []
   },
   "outputs": [
    {
     "name": "stdout",
     "output_type": "stream",
     "text": [
      "/kaggle/input/tabular-playground-series-mar-2021/sample_submission.csv\n",
      "/kaggle/input/tabular-playground-series-mar-2021/train.csv\n",
      "/kaggle/input/tabular-playground-series-mar-2021/test.csv\n"
     ]
    }
   ],
   "source": [
    "##Import the required packages. These include pandas, numpy,scikit-learn and optuna\n",
    "!pip install bayesian-optimization -q\n",
    "from bayes_opt import BayesianOptimization\n",
    "from fastai.tabular.all import *\n",
    "import numpy as np # linear algebra\n",
    "import pandas as pd # data processing, CSV file I/O (e.g. pd.read_csv)\n",
    "import fastai\n",
    "\n",
    "\n",
    "import os\n",
    "for dirname, _, filenames in os.walk('/kaggle/input'):\n",
    "    for filename in filenames:\n",
    "        print(os.path.join(dirname, filename))"
   ]
  },
  {
   "cell_type": "markdown",
   "metadata": {
    "papermill": {
     "duration": 0.019378,
     "end_time": "2021-03-02T23:14:27.560014",
     "exception": false,
     "start_time": "2021-03-02T23:14:27.540636",
     "status": "completed"
    },
    "tags": []
   },
   "source": [
    "I read the train set, test set to be loaded to the python runtime.\n"
   ]
  },
  {
   "cell_type": "code",
   "execution_count": 2,
   "metadata": {
    "execution": {
     "iopub.execute_input": "2021-03-02T23:14:27.609145Z",
     "iopub.status.busy": "2021-03-02T23:14:27.608631Z",
     "iopub.status.idle": "2021-03-02T23:14:30.713796Z",
     "shell.execute_reply": "2021-03-02T23:14:30.713256Z"
    },
    "papermill": {
     "duration": 3.132566,
     "end_time": "2021-03-02T23:14:30.713934",
     "exception": false,
     "start_time": "2021-03-02T23:14:27.581368",
     "status": "completed"
    },
    "tags": []
   },
   "outputs": [],
   "source": [
    "train_ = pd.read_csv('/kaggle/input/tabular-playground-series-mar-2021/train.csv')\n",
    "test_ = pd.read_csv('/kaggle/input/tabular-playground-series-mar-2021/test.csv')"
   ]
  },
  {
   "cell_type": "code",
   "execution_count": 3,
   "metadata": {
    "execution": {
     "iopub.execute_input": "2021-03-02T23:14:30.761260Z",
     "iopub.status.busy": "2021-03-02T23:14:30.760658Z",
     "iopub.status.idle": "2021-03-02T23:14:30.764145Z",
     "shell.execute_reply": "2021-03-02T23:14:30.764564Z"
    },
    "papermill": {
     "duration": 0.030536,
     "end_time": "2021-03-02T23:14:30.764686",
     "exception": false,
     "start_time": "2021-03-02T23:14:30.734150",
     "status": "completed"
    },
    "tags": []
   },
   "outputs": [
    {
     "data": {
      "text/plain": [
       "(300000, 32)"
      ]
     },
     "execution_count": 3,
     "metadata": {},
     "output_type": "execute_result"
    }
   ],
   "source": [
    "train_.shape"
   ]
  },
  {
   "cell_type": "markdown",
   "metadata": {
    "papermill": {
     "duration": 0.019813,
     "end_time": "2021-03-02T23:14:30.804246",
     "exception": false,
     "start_time": "2021-03-02T23:14:30.784433",
     "status": "completed"
    },
    "tags": []
   },
   "source": [
    "Inspecting class imbalance. I will use stratfied sampling in train test split in a subsequent split to ensure this class imbalance is equally represented in the train and validation data sets."
   ]
  },
  {
   "cell_type": "code",
   "execution_count": 4,
   "metadata": {
    "execution": {
     "iopub.execute_input": "2021-03-02T23:14:30.898039Z",
     "iopub.status.busy": "2021-03-02T23:14:30.895889Z",
     "iopub.status.idle": "2021-03-02T23:14:30.901186Z",
     "shell.execute_reply": "2021-03-02T23:14:30.900806Z"
    },
    "papermill": {
     "duration": 0.077129,
     "end_time": "2021-03-02T23:14:30.901314",
     "exception": false,
     "start_time": "2021-03-02T23:14:30.824185",
     "status": "completed"
    },
    "tags": []
   },
   "outputs": [
    {
     "data": {
      "text/plain": [
       "Counter({0: 220539, 1: 79461})"
      ]
     },
     "execution_count": 4,
     "metadata": {},
     "output_type": "execute_result"
    }
   ],
   "source": [
    "from collections import Counter\n",
    "Counter(train_['target'])"
   ]
  },
  {
   "cell_type": "markdown",
   "metadata": {
    "papermill": {
     "duration": 0.020545,
     "end_time": "2021-03-02T23:14:30.942053",
     "exception": false,
     "start_time": "2021-03-02T23:14:30.921508",
     "status": "completed"
    },
    "tags": []
   },
   "source": [
    "As a general rule of thumb, for exploratory work, I like to keep the mini batch size to around 1% of my training set size. Also ensure that you typecast the batch size to an integer, otherwise fastai will throw an error."
   ]
  },
  {
   "cell_type": "code",
   "execution_count": 5,
   "metadata": {
    "execution": {
     "iopub.execute_input": "2021-03-02T23:14:30.988474Z",
     "iopub.status.busy": "2021-03-02T23:14:30.987406Z",
     "iopub.status.idle": "2021-03-02T23:14:30.990595Z",
     "shell.execute_reply": "2021-03-02T23:14:30.990979Z"
    },
    "papermill": {
     "duration": 0.028718,
     "end_time": "2021-03-02T23:14:30.991089",
     "exception": false,
     "start_time": "2021-03-02T23:14:30.962371",
     "status": "completed"
    },
    "tags": []
   },
   "outputs": [
    {
     "data": {
      "text/plain": [
       "2400"
      ]
     },
     "execution_count": 5,
     "metadata": {},
     "output_type": "execute_result"
    }
   ],
   "source": [
    "bs = int(train_.shape[0]*0.8/100)\n",
    "bs"
   ]
  },
  {
   "cell_type": "markdown",
   "metadata": {
    "papermill": {
     "duration": 0.020506,
     "end_time": "2021-03-02T23:14:31.032223",
     "exception": false,
     "start_time": "2021-03-02T23:14:31.011717",
     "status": "completed"
    },
    "tags": []
   },
   "source": [
    "Inspect the columns of the training data set "
   ]
  },
  {
   "cell_type": "code",
   "execution_count": 6,
   "metadata": {
    "execution": {
     "iopub.execute_input": "2021-03-02T23:14:31.079673Z",
     "iopub.status.busy": "2021-03-02T23:14:31.078632Z",
     "iopub.status.idle": "2021-03-02T23:14:31.081848Z",
     "shell.execute_reply": "2021-03-02T23:14:31.082231Z"
    },
    "papermill": {
     "duration": 0.028969,
     "end_time": "2021-03-02T23:14:31.082368",
     "exception": false,
     "start_time": "2021-03-02T23:14:31.053399",
     "status": "completed"
    },
    "tags": []
   },
   "outputs": [
    {
     "data": {
      "text/plain": [
       "Index(['id', 'cat0', 'cat1', 'cat2', 'cat3', 'cat4', 'cat5', 'cat6', 'cat7',\n",
       "       'cat8', 'cat9', 'cat10', 'cat11', 'cat12', 'cat13', 'cat14', 'cat15',\n",
       "       'cat16', 'cat17', 'cat18', 'cont0', 'cont1', 'cont2', 'cont3', 'cont4',\n",
       "       'cont5', 'cont6', 'cont7', 'cont8', 'cont9', 'cont10', 'target'],\n",
       "      dtype='object')"
      ]
     },
     "execution_count": 6,
     "metadata": {},
     "output_type": "execute_result"
    }
   ],
   "source": [
    "train_.columns"
   ]
  },
  {
   "cell_type": "markdown",
   "metadata": {
    "papermill": {
     "duration": 0.02099,
     "end_time": "2021-03-02T23:14:31.131816",
     "exception": false,
     "start_time": "2021-03-02T23:14:31.110826",
     "status": "completed"
    },
    "tags": []
   },
   "source": [
    "Get the feature+target columns of the training set and assign it to a different variable"
   ]
  },
  {
   "cell_type": "code",
   "execution_count": 7,
   "metadata": {
    "execution": {
     "iopub.execute_input": "2021-03-02T23:14:31.228749Z",
     "iopub.status.busy": "2021-03-02T23:14:31.226893Z",
     "iopub.status.idle": "2021-03-02T23:14:31.229348Z",
     "shell.execute_reply": "2021-03-02T23:14:31.229740Z"
    },
    "papermill": {
     "duration": 0.076956,
     "end_time": "2021-03-02T23:14:31.229875",
     "exception": false,
     "start_time": "2021-03-02T23:14:31.152919",
     "status": "completed"
    },
    "tags": []
   },
   "outputs": [],
   "source": [
    "df = train_[['cat0', 'cat1', 'cat2', 'cat3', 'cat4', 'cat5', 'cat6', 'cat7', 'cat8', 'cat9', 'cat10', 'cat11', 'cat12', 'cat13', 'cat14', 'cat15', 'cat16', 'cat17', 'cat18', 'cont0', 'cont1', 'cont2', 'cont3', 'cont4', 'cont5', 'cont6', 'cont7', 'cont8', 'cont9', 'cont10', 'target']]"
   ]
  },
  {
   "cell_type": "markdown",
   "metadata": {
    "papermill": {
     "duration": 0.02106,
     "end_time": "2021-03-02T23:14:31.272421",
     "exception": false,
     "start_time": "2021-03-02T23:14:31.251361",
     "status": "completed"
    },
    "tags": []
   },
   "source": [
    "Define a fit function that the Bayesian optimization framework will optimize. The hyperparameters we are optimizing for in this manner are the number of layers, the number of neurons per each such layer, learning rate, drop out and weight decay"
   ]
  },
  {
   "cell_type": "markdown",
   "metadata": {
    "papermill": {
     "duration": 0.021316,
     "end_time": "2021-03-02T23:14:31.315213",
     "exception": false,
     "start_time": "2021-03-02T23:14:31.293897",
     "status": "completed"
    },
    "tags": []
   },
   "source": [
    "Also I couldn't stress enough how important it is to pick the right metric to optimize. Since the competition guidelines specifically ask for auc and this is a binary target, RocAucBinary() is the approproate metric compatible with fastai here. Optimizing for accuracy might not lead to the best score in the confines of this tabular playground exercise."
   ]
  },
  {
   "cell_type": "code",
   "execution_count": 8,
   "metadata": {
    "execution": {
     "iopub.execute_input": "2021-03-02T23:14:31.366311Z",
     "iopub.status.busy": "2021-03-02T23:14:31.364710Z",
     "iopub.status.idle": "2021-03-02T23:14:31.366951Z",
     "shell.execute_reply": "2021-03-02T23:14:31.367365Z"
    },
    "papermill": {
     "duration": 0.031087,
     "end_time": "2021-03-02T23:14:31.367487",
     "exception": false,
     "start_time": "2021-03-02T23:14:31.336400",
     "status": "completed"
    },
    "tags": []
   },
   "outputs": [],
   "source": [
    "def fit_with(lr:float, wd:float, dp:float, n_layers:float, layer_1:float, layer_2:float, layer_3:float):\n",
    "\n",
    "  print(lr, wd, dp)\n",
    "  if int(n_layers) == 2:\n",
    "    layers = [int(layer_1), int(layer_2)]\n",
    "  elif int(n_layers) == 3:\n",
    "    layers = [int(layer_1), int(layer_2), int(layer_3)]\n",
    "  else:\n",
    "    layers = [int(layer_1)]\n",
    "  config = tabular_config(embed_p=float(dp),\n",
    "                          ps=float(wd))\n",
    "  learn = tabular_learner(dls, layers=layers, metrics=RocAucBinary(), config = config)\n",
    "\n",
    "  with learn.no_bar() and learn.no_logging():\n",
    "    learn.fit(5, lr=float(lr))\n",
    "\n",
    "  auc = float(learn.validate()[1])\n",
    "\n",
    "  return auc"
   ]
  },
  {
   "cell_type": "markdown",
   "metadata": {
    "papermill": {
     "duration": 0.02111,
     "end_time": "2021-03-02T23:14:31.409933",
     "exception": false,
     "start_time": "2021-03-02T23:14:31.388823",
     "status": "completed"
    },
    "tags": []
   },
   "source": [
    "Assign lists of categorical variables and continuous variables to separate variables, specify preprocessing procs, the target and the correct type of data block for the target."
   ]
  },
  {
   "cell_type": "markdown",
   "metadata": {
    "papermill": {
     "duration": 0.021183,
     "end_time": "2021-03-02T23:14:31.452378",
     "exception": false,
     "start_time": "2021-03-02T23:14:31.431195",
     "status": "completed"
    },
    "tags": []
   },
   "source": [
    "Notice that I do the train test split stratified on the target column"
   ]
  },
  {
   "cell_type": "code",
   "execution_count": 9,
   "metadata": {
    "execution": {
     "iopub.execute_input": "2021-03-02T23:14:31.518836Z",
     "iopub.status.busy": "2021-03-02T23:14:31.517988Z",
     "iopub.status.idle": "2021-03-02T23:14:31.810920Z",
     "shell.execute_reply": "2021-03-02T23:14:31.810454Z"
    },
    "papermill": {
     "duration": 0.337137,
     "end_time": "2021-03-02T23:14:31.811051",
     "exception": false,
     "start_time": "2021-03-02T23:14:31.473914",
     "status": "completed"
    },
    "tags": []
   },
   "outputs": [],
   "source": [
    "cat_names = ['cat0', 'cat1', 'cat2', 'cat3', 'cat4', 'cat5', 'cat6', 'cat7', 'cat8', 'cat9', 'cat10', 'cat11', 'cat12', 'cat13', 'cat14', 'cat15', 'cat16', 'cat17', 'cat18']\n",
    "cont_names = ['cont0', 'cont1', 'cont2', 'cont3', 'cont4', 'cont5', 'cont6', 'cont7', 'cont8', 'cont9', 'cont10']\n",
    "procs = [Categorify, FillMissing, Normalize]\n",
    "y_names = 'target'\n",
    "y_block = CategoryBlock()\n",
    "splits = TrainTestSplitter(test_size=0.2, random_state=42, stratify=df['target'])(range_of(df))"
   ]
  },
  {
   "cell_type": "code",
   "execution_count": 10,
   "metadata": {
    "execution": {
     "iopub.execute_input": "2021-03-02T23:14:31.915506Z",
     "iopub.status.busy": "2021-03-02T23:14:31.914286Z",
     "iopub.status.idle": "2021-03-02T23:14:32.639192Z",
     "shell.execute_reply": "2021-03-02T23:14:32.638050Z"
    },
    "papermill": {
     "duration": 0.806253,
     "end_time": "2021-03-02T23:14:32.639371",
     "exception": false,
     "start_time": "2021-03-02T23:14:31.833118",
     "status": "completed"
    },
    "tags": []
   },
   "outputs": [],
   "source": [
    "to = TabularPandas(df, procs=procs, cat_names=cat_names, cont_names=cont_names,\n",
    "                   y_names=y_names, y_block=y_block, splits=splits)"
   ]
  },
  {
   "cell_type": "code",
   "execution_count": 11,
   "metadata": {
    "execution": {
     "iopub.execute_input": "2021-03-02T23:14:32.689591Z",
     "iopub.status.busy": "2021-03-02T23:14:32.688518Z",
     "iopub.status.idle": "2021-03-02T23:14:36.642016Z",
     "shell.execute_reply": "2021-03-02T23:14:36.641544Z"
    },
    "papermill": {
     "duration": 3.980529,
     "end_time": "2021-03-02T23:14:36.642151",
     "exception": false,
     "start_time": "2021-03-02T23:14:32.661622",
     "status": "completed"
    },
    "tags": []
   },
   "outputs": [],
   "source": [
    "dls = to.dataloaders(bs=bs)\n"
   ]
  },
  {
   "cell_type": "markdown",
   "metadata": {
    "papermill": {
     "duration": 0.021684,
     "end_time": "2021-03-02T23:14:36.687619",
     "exception": false,
     "start_time": "2021-03-02T23:14:36.665935",
     "status": "completed"
    },
    "tags": []
   },
   "source": [
    "Specify ranges for each of the hyperparameters discussed above. This is pretty much directly taken from Zachary Mueller's notebook. Feel free to play around with this but it's a good place to start."
   ]
  },
  {
   "cell_type": "code",
   "execution_count": 12,
   "metadata": {
    "execution": {
     "iopub.execute_input": "2021-03-02T23:14:36.737401Z",
     "iopub.status.busy": "2021-03-02T23:14:36.735695Z",
     "iopub.status.idle": "2021-03-02T23:14:36.737985Z",
     "shell.execute_reply": "2021-03-02T23:14:36.738390Z"
    },
    "papermill": {
     "duration": 0.028956,
     "end_time": "2021-03-02T23:14:36.738510",
     "exception": false,
     "start_time": "2021-03-02T23:14:36.709554",
     "status": "completed"
    },
    "tags": []
   },
   "outputs": [],
   "source": [
    "hps = {'lr': (1e-05, 1e-01),\n",
    "      'wd': (4e-4, 0.4),\n",
    "      'dp': (0.01, 0.5),\n",
    "       'n_layers': (1,3),\n",
    "       'layer_1': (50, 200),\n",
    "       'layer_2': (100, 1000),\n",
    "       'layer_3': (200, 2000)}"
   ]
  },
  {
   "cell_type": "markdown",
   "metadata": {
    "papermill": {
     "duration": 0.023208,
     "end_time": "2021-03-02T23:14:36.784096",
     "exception": false,
     "start_time": "2021-03-02T23:14:36.760888",
     "status": "completed"
    },
    "tags": []
   },
   "source": [
    "Set up the optimizer and run the search. Note that we intend to maximize the auc so we seek for the maximum solution for 10 iterations"
   ]
  },
  {
   "cell_type": "code",
   "execution_count": 13,
   "metadata": {
    "execution": {
     "iopub.execute_input": "2021-03-02T23:14:36.839692Z",
     "iopub.status.busy": "2021-03-02T23:14:36.839107Z",
     "iopub.status.idle": "2021-03-02T23:18:15.833396Z",
     "shell.execute_reply": "2021-03-02T23:18:15.833968Z"
    },
    "papermill": {
     "duration": 219.028047,
     "end_time": "2021-03-02T23:18:15.834212",
     "exception": false,
     "start_time": "2021-03-02T23:14:36.806165",
     "status": "completed"
    },
    "tags": []
   },
   "outputs": [
    {
     "name": "stdout",
     "output_type": "stream",
     "text": [
      "|   iter    |  target   |    dp     |  layer_1  |  layer_2  |  layer_3  |    lr     | n_layers  |    wd     |\n",
      "-------------------------------------------------------------------------------------------------------------\n",
      "0.01561030385783923 0.023610211422412507 0.19352465823520762\n"
     ]
    },
    {
     "data": {
      "text/html": [],
      "text/plain": [
       "<IPython.core.display.HTML object>"
      ]
     },
     "metadata": {},
     "output_type": "display_data"
    },
    {
     "data": {
      "text/html": [],
      "text/plain": [
       "<IPython.core.display.HTML object>"
      ]
     },
     "metadata": {},
     "output_type": "display_data"
    },
    {
     "name": "stdout",
     "output_type": "stream",
     "text": [
      "| \u001b[0m 1       \u001b[0m | \u001b[0m 0.8876  \u001b[0m | \u001b[0m 0.1935  \u001b[0m | \u001b[0m 192.6   \u001b[0m | \u001b[0m 758.8   \u001b[0m | \u001b[0m 1.278e+0\u001b[0m | \u001b[0m 0.01561 \u001b[0m | \u001b[0m 1.312   \u001b[0m | \u001b[0m 0.02361 \u001b[0m |\n",
      "0.09699128611767782 0.08525070862703915 0.4344263114297182\n"
     ]
    },
    {
     "data": {
      "text/html": [],
      "text/plain": [
       "<IPython.core.display.HTML object>"
      ]
     },
     "metadata": {},
     "output_type": "display_data"
    },
    {
     "data": {
      "text/html": [],
      "text/plain": [
       "<IPython.core.display.HTML object>"
      ]
     },
     "metadata": {},
     "output_type": "display_data"
    },
    {
     "name": "stdout",
     "output_type": "stream",
     "text": [
      "| \u001b[0m 2       \u001b[0m | \u001b[0m 0.8831  \u001b[0m | \u001b[0m 0.4344  \u001b[0m | \u001b[0m 140.2   \u001b[0m | \u001b[0m 737.3   \u001b[0m | \u001b[0m 237.1   \u001b[0m | \u001b[0m 0.09699 \u001b[0m | \u001b[0m 2.665   \u001b[0m | \u001b[0m 0.08525 \u001b[0m |\n",
      "0.043200182414025165 0.24489641673106285 0.0990942339314793\n"
     ]
    },
    {
     "data": {
      "text/html": [],
      "text/plain": [
       "<IPython.core.display.HTML object>"
      ]
     },
     "metadata": {},
     "output_type": "display_data"
    },
    {
     "data": {
      "text/html": [],
      "text/plain": [
       "<IPython.core.display.HTML object>"
      ]
     },
     "metadata": {},
     "output_type": "display_data"
    },
    {
     "name": "stdout",
     "output_type": "stream",
     "text": [
      "| \u001b[0m 3       \u001b[0m | \u001b[0m 0.8857  \u001b[0m | \u001b[0m 0.09909 \u001b[0m | \u001b[0m 77.51   \u001b[0m | \u001b[0m 373.8   \u001b[0m | \u001b[0m 1.145e+0\u001b[0m | \u001b[0m 0.0432  \u001b[0m | \u001b[0m 1.582   \u001b[0m | \u001b[0m 0.2449  \u001b[0m |\n",
      "0.07851974437968744 0.2058880815900792 0.0783519917195005\n"
     ]
    },
    {
     "data": {
      "text/html": [],
      "text/plain": [
       "<IPython.core.display.HTML object>"
      ]
     },
     "metadata": {},
     "output_type": "display_data"
    },
    {
     "data": {
      "text/html": [],
      "text/plain": [
       "<IPython.core.display.HTML object>"
      ]
     },
     "metadata": {},
     "output_type": "display_data"
    },
    {
     "name": "stdout",
     "output_type": "stream",
     "text": [
      "| \u001b[0m 4       \u001b[0m | \u001b[0m 0.882   \u001b[0m | \u001b[0m 0.07835 \u001b[0m | \u001b[0m 93.82   \u001b[0m | \u001b[0m 429.7   \u001b[0m | \u001b[0m 1.021e+0\u001b[0m | \u001b[0m 0.07852 \u001b[0m | \u001b[0m 1.399   \u001b[0m | \u001b[0m 0.2059  \u001b[0m |\n",
      "0.006514508782598099 0.38626656041659396 0.3002831387424008\n"
     ]
    },
    {
     "data": {
      "text/html": [],
      "text/plain": [
       "<IPython.core.display.HTML object>"
      ]
     },
     "metadata": {},
     "output_type": "display_data"
    },
    {
     "data": {
      "text/html": [],
      "text/plain": [
       "<IPython.core.display.HTML object>"
      ]
     },
     "metadata": {},
     "output_type": "display_data"
    },
    {
     "name": "stdout",
     "output_type": "stream",
     "text": [
      "| \u001b[0m 5       \u001b[0m | \u001b[0m 0.885   \u001b[0m | \u001b[0m 0.3003  \u001b[0m | \u001b[0m 56.97   \u001b[0m | \u001b[0m 646.8   \u001b[0m | \u001b[0m 506.9   \u001b[0m | \u001b[0m 0.006515\u001b[0m | \u001b[0m 2.898   \u001b[0m | \u001b[0m 0.3863  \u001b[0m |\n",
      "0.0880907071028698 0.10312225179880781 0.17602350638717562\n"
     ]
    },
    {
     "data": {
      "text/html": [],
      "text/plain": [
       "<IPython.core.display.HTML object>"
      ]
     },
     "metadata": {},
     "output_type": "display_data"
    },
    {
     "data": {
      "text/html": [],
      "text/plain": [
       "<IPython.core.display.HTML object>"
      ]
     },
     "metadata": {},
     "output_type": "display_data"
    },
    {
     "name": "stdout",
     "output_type": "stream",
     "text": [
      "| \u001b[0m 6       \u001b[0m | \u001b[0m 0.881   \u001b[0m | \u001b[0m 0.176   \u001b[0m | \u001b[0m 192.8   \u001b[0m | \u001b[0m 764.1   \u001b[0m | \u001b[0m 1.275e+0\u001b[0m | \u001b[0m 0.08809 \u001b[0m | \u001b[0m 1.099   \u001b[0m | \u001b[0m 0.1031  \u001b[0m |\n",
      "0.07518834490613562 0.19932765454292467 0.04154169265570138\n"
     ]
    },
    {
     "data": {
      "text/html": [],
      "text/plain": [
       "<IPython.core.display.HTML object>"
      ]
     },
     "metadata": {},
     "output_type": "display_data"
    },
    {
     "data": {
      "text/html": [],
      "text/plain": [
       "<IPython.core.display.HTML object>"
      ]
     },
     "metadata": {},
     "output_type": "display_data"
    },
    {
     "name": "stdout",
     "output_type": "stream",
     "text": [
      "| \u001b[0m 7       \u001b[0m | \u001b[0m 0.8817  \u001b[0m | \u001b[0m 0.04154 \u001b[0m | \u001b[0m 66.35   \u001b[0m | \u001b[0m 906.8   \u001b[0m | \u001b[0m 1.73e+03\u001b[0m | \u001b[0m 0.07519 \u001b[0m | \u001b[0m 1.558   \u001b[0m | \u001b[0m 0.1993  \u001b[0m |\n",
      "0.09426328772291151 0.2722909136641639 0.21858882867861856\n"
     ]
    },
    {
     "data": {
      "text/html": [],
      "text/plain": [
       "<IPython.core.display.HTML object>"
      ]
     },
     "metadata": {},
     "output_type": "display_data"
    },
    {
     "data": {
      "text/html": [],
      "text/plain": [
       "<IPython.core.display.HTML object>"
      ]
     },
     "metadata": {},
     "output_type": "display_data"
    },
    {
     "name": "stdout",
     "output_type": "stream",
     "text": [
      "| \u001b[0m 8       \u001b[0m | \u001b[0m 0.8824  \u001b[0m | \u001b[0m 0.2186  \u001b[0m | \u001b[0m 101.1   \u001b[0m | \u001b[0m 914.4   \u001b[0m | \u001b[0m 1.051e+0\u001b[0m | \u001b[0m 0.09426 \u001b[0m | \u001b[0m 1.594   \u001b[0m | \u001b[0m 0.2723  \u001b[0m |\n",
      "0.07923910607866624 0.18598027201962777 0.49929258780251917\n"
     ]
    },
    {
     "data": {
      "text/html": [],
      "text/plain": [
       "<IPython.core.display.HTML object>"
      ]
     },
     "metadata": {},
     "output_type": "display_data"
    },
    {
     "data": {
      "text/html": [],
      "text/plain": [
       "<IPython.core.display.HTML object>"
      ]
     },
     "metadata": {},
     "output_type": "display_data"
    },
    {
     "name": "stdout",
     "output_type": "stream",
     "text": [
      "| \u001b[0m 9       \u001b[0m | \u001b[0m 0.8822  \u001b[0m | \u001b[0m 0.4993  \u001b[0m | \u001b[0m 57.67   \u001b[0m | \u001b[0m 804.3   \u001b[0m | \u001b[0m 1.536e+0\u001b[0m | \u001b[0m 0.07924 \u001b[0m | \u001b[0m 1.699   \u001b[0m | \u001b[0m 0.186   \u001b[0m |\n",
      "0.09661208267429061 0.011454215681021531 0.2824768254104184\n"
     ]
    },
    {
     "data": {
      "text/html": [],
      "text/plain": [
       "<IPython.core.display.HTML object>"
      ]
     },
     "metadata": {},
     "output_type": "display_data"
    },
    {
     "data": {
      "text/html": [],
      "text/plain": [
       "<IPython.core.display.HTML object>"
      ]
     },
     "metadata": {},
     "output_type": "display_data"
    },
    {
     "name": "stdout",
     "output_type": "stream",
     "text": [
      "| \u001b[0m 10      \u001b[0m | \u001b[0m 0.5     \u001b[0m | \u001b[0m 0.2825  \u001b[0m | \u001b[0m 185.6   \u001b[0m | \u001b[0m 695.6   \u001b[0m | \u001b[0m 614.9   \u001b[0m | \u001b[0m 0.09661 \u001b[0m | \u001b[0m 1.792   \u001b[0m | \u001b[0m 0.01145 \u001b[0m |\n",
      "1e-05 0.0004 0.5\n"
     ]
    },
    {
     "data": {
      "text/html": [],
      "text/plain": [
       "<IPython.core.display.HTML object>"
      ]
     },
     "metadata": {},
     "output_type": "display_data"
    },
    {
     "data": {
      "text/html": [],
      "text/plain": [
       "<IPython.core.display.HTML object>"
      ]
     },
     "metadata": {},
     "output_type": "display_data"
    },
    {
     "name": "stdout",
     "output_type": "stream",
     "text": [
      "| \u001b[0m 11      \u001b[0m | \u001b[0m 0.8744  \u001b[0m | \u001b[0m 0.5     \u001b[0m | \u001b[0m 139.0   \u001b[0m | \u001b[0m 677.4   \u001b[0m | \u001b[0m 1.391e+0\u001b[0m | \u001b[0m 1e-05   \u001b[0m | \u001b[0m 3.0     \u001b[0m | \u001b[0m 0.0004  \u001b[0m |\n",
      "1e-05 0.0004 0.38143709535750236\n"
     ]
    },
    {
     "data": {
      "text/html": [],
      "text/plain": [
       "<IPython.core.display.HTML object>"
      ]
     },
     "metadata": {},
     "output_type": "display_data"
    },
    {
     "data": {
      "text/html": [],
      "text/plain": [
       "<IPython.core.display.HTML object>"
      ]
     },
     "metadata": {},
     "output_type": "display_data"
    },
    {
     "name": "stdout",
     "output_type": "stream",
     "text": [
      "| \u001b[0m 12      \u001b[0m | \u001b[0m 0.8729  \u001b[0m | \u001b[0m 0.3814  \u001b[0m | \u001b[0m 174.9   \u001b[0m | \u001b[0m 612.9   \u001b[0m | \u001b[0m 1.227e+0\u001b[0m | \u001b[0m 1e-05   \u001b[0m | \u001b[0m 2.301   \u001b[0m | \u001b[0m 0.0004  \u001b[0m |\n",
      "0.08619267164588613 0.246830525049531 0.3133913819652203\n"
     ]
    },
    {
     "data": {
      "text/html": [],
      "text/plain": [
       "<IPython.core.display.HTML object>"
      ]
     },
     "metadata": {},
     "output_type": "display_data"
    },
    {
     "data": {
      "text/html": [],
      "text/plain": [
       "<IPython.core.display.HTML object>"
      ]
     },
     "metadata": {},
     "output_type": "display_data"
    },
    {
     "name": "stdout",
     "output_type": "stream",
     "text": [
      "| \u001b[0m 13      \u001b[0m | \u001b[0m 0.8844  \u001b[0m | \u001b[0m 0.3134  \u001b[0m | \u001b[0m 68.41   \u001b[0m | \u001b[0m 603.5   \u001b[0m | \u001b[0m 357.9   \u001b[0m | \u001b[0m 0.08619 \u001b[0m | \u001b[0m 2.643   \u001b[0m | \u001b[0m 0.2468  \u001b[0m |\n",
      "0.001416749885928521 0.05547000521613273 0.3364541844761861\n"
     ]
    },
    {
     "data": {
      "text/html": [],
      "text/plain": [
       "<IPython.core.display.HTML object>"
      ]
     },
     "metadata": {},
     "output_type": "display_data"
    },
    {
     "data": {
      "text/html": [],
      "text/plain": [
       "<IPython.core.display.HTML object>"
      ]
     },
     "metadata": {},
     "output_type": "display_data"
    },
    {
     "name": "stdout",
     "output_type": "stream",
     "text": [
      "| \u001b[95m 14      \u001b[0m | \u001b[95m 0.8883  \u001b[0m | \u001b[95m 0.3365  \u001b[0m | \u001b[95m 54.62   \u001b[0m | \u001b[95m 807.8   \u001b[0m | \u001b[95m 1.542e+0\u001b[0m | \u001b[95m 0.001417\u001b[0m | \u001b[95m 2.237   \u001b[0m | \u001b[95m 0.05547 \u001b[0m |\n",
      "0.03641783347159078 0.2901881376570019 0.3366551346664063\n"
     ]
    },
    {
     "data": {
      "text/html": [],
      "text/plain": [
       "<IPython.core.display.HTML object>"
      ]
     },
     "metadata": {},
     "output_type": "display_data"
    },
    {
     "data": {
      "text/html": [],
      "text/plain": [
       "<IPython.core.display.HTML object>"
      ]
     },
     "metadata": {},
     "output_type": "display_data"
    },
    {
     "name": "stdout",
     "output_type": "stream",
     "text": [
      "| \u001b[0m 15      \u001b[0m | \u001b[0m 0.8844  \u001b[0m | \u001b[0m 0.3367  \u001b[0m | \u001b[0m 58.94   \u001b[0m | \u001b[0m 982.8   \u001b[0m | \u001b[0m 1.554e+0\u001b[0m | \u001b[0m 0.03642 \u001b[0m | \u001b[0m 2.716   \u001b[0m | \u001b[0m 0.2902  \u001b[0m |\n",
      "=============================================================================================================\n",
      "CPU times: user 3min 37s, sys: 2.84 s, total: 3min 40s\n",
      "Wall time: 3min 38s\n"
     ]
    }
   ],
   "source": [
    "optim = BayesianOptimization(\n",
    "    f = fit_with, # fit function as defined above\n",
    "    pbounds = hps, # our hyper parameters \n",
    "    verbose = 3, \n",
    "    random_state=42\n",
    ")\n",
    "%time optim.maximize(n_iter=10) #Run the optimizer for 10 iterations"
   ]
  },
  {
   "cell_type": "markdown",
   "metadata": {
    "papermill": {
     "duration": 0.038577,
     "end_time": "2021-03-02T23:18:15.912168",
     "exception": false,
     "start_time": "2021-03-02T23:18:15.873591",
     "status": "completed"
    },
    "tags": []
   },
   "source": [
    "Let's inspect the best hyperparameters as discovered by our search"
   ]
  },
  {
   "cell_type": "code",
   "execution_count": 14,
   "metadata": {
    "execution": {
     "iopub.execute_input": "2021-03-02T23:18:15.994629Z",
     "iopub.status.busy": "2021-03-02T23:18:15.993927Z",
     "iopub.status.idle": "2021-03-02T23:18:15.997855Z",
     "shell.execute_reply": "2021-03-02T23:18:15.997436Z"
    },
    "papermill": {
     "duration": 0.04682,
     "end_time": "2021-03-02T23:18:15.997971",
     "exception": false,
     "start_time": "2021-03-02T23:18:15.951151",
     "status": "completed"
    },
    "tags": []
   },
   "outputs": [
    {
     "name": "stdout",
     "output_type": "stream",
     "text": [
      "{'target': 0.8882793724615399, 'params': {'dp': 0.3364541844761861, 'layer_1': 54.616724182929104, 'layer_2': 807.8243595262542, 'layer_3': 1541.5251729166685, 'lr': 0.001416749885928521, 'n_layers': 2.237192244004574, 'wd': 0.05547000521613273}}\n"
     ]
    }
   ],
   "source": [
    "print(optim.max)\n"
   ]
  },
  {
   "cell_type": "markdown",
   "metadata": {
    "papermill": {
     "duration": 0.038877,
     "end_time": "2021-03-02T23:18:16.076187",
     "exception": false,
     "start_time": "2021-03-02T23:18:16.037310",
     "status": "completed"
    },
    "tags": []
   },
   "source": [
    "For the sake of brevity I only ran this for 10 iterations on the Kaggle environment. I ran this in a gpu enabled Colab pro instance for 500 iterations and the best I managed to get was as follows."
   ]
  },
  {
   "cell_type": "code",
   "execution_count": 15,
   "metadata": {
    "execution": {
     "iopub.execute_input": "2021-03-02T23:18:16.160374Z",
     "iopub.status.busy": "2021-03-02T23:18:16.159539Z",
     "iopub.status.idle": "2021-03-02T23:18:16.163389Z",
     "shell.execute_reply": "2021-03-02T23:18:16.162971Z"
    },
    "papermill": {
     "duration": 0.047956,
     "end_time": "2021-03-02T23:18:16.163498",
     "exception": false,
     "start_time": "2021-03-02T23:18:16.115542",
     "status": "completed"
    },
    "tags": []
   },
   "outputs": [
    {
     "data": {
      "text/plain": [
       "{'target': 0.8899,\n",
       " 'params': {'dp': 0.118,\n",
       "  'layer_1': 172.7,\n",
       "  'layer_2': 198.3,\n",
       "  'layer_3': 1.934,\n",
       "  'lr': 0.001991,\n",
       "  'n_layers': 2.116,\n",
       "  'wd': 0.08398}}"
      ]
     },
     "execution_count": 15,
     "metadata": {},
     "output_type": "execute_result"
    }
   ],
   "source": [
    "params = {'target': 0.8899, 'params': {'dp': 0.118, 'layer_1': 172.7, 'layer_2': 198.3, 'layer_3': 1.934e+0, 'lr': 0.001991 , 'n_layers': 2.116, 'wd': 0.08398}}\n",
    "params"
   ]
  },
  {
   "cell_type": "markdown",
   "metadata": {
    "papermill": {
     "duration": 0.039059,
     "end_time": "2021-03-02T23:18:16.242002",
     "exception": false,
     "start_time": "2021-03-02T23:18:16.202943",
     "status": "completed"
    },
    "tags": []
   },
   "source": [
    "It's impossible to have bits and pieces/ fractional neuron numbers in an MLP. So this requires some interpretation. A cleaned up set of hyperparameters on my 500 iteration search is as follows"
   ]
  },
  {
   "cell_type": "code",
   "execution_count": 16,
   "metadata": {
    "execution": {
     "iopub.execute_input": "2021-03-02T23:18:16.324266Z",
     "iopub.status.busy": "2021-03-02T23:18:16.323669Z",
     "iopub.status.idle": "2021-03-02T23:18:16.326082Z",
     "shell.execute_reply": "2021-03-02T23:18:16.326474Z"
    },
    "papermill": {
     "duration": 0.04547,
     "end_time": "2021-03-02T23:18:16.326596",
     "exception": false,
     "start_time": "2021-03-02T23:18:16.281126",
     "status": "completed"
    },
    "tags": []
   },
   "outputs": [],
   "source": [
    "params = {'target': 0.8899,\n",
    " 'params': {'dp': 0.118,\n",
    "  'layer_1': 172,\n",
    "  'layer_2': 198,\n",
    "  'lr': 0.001991,\n",
    "  'n_layers': 2,\n",
    "  'wd': 0.08398}}"
   ]
  },
  {
   "cell_type": "markdown",
   "metadata": {
    "papermill": {
     "duration": 0.039009,
     "end_time": "2021-03-02T23:18:16.404781",
     "exception": false,
     "start_time": "2021-03-02T23:18:16.365772",
     "status": "completed"
    },
    "tags": []
   },
   "source": [
    "Let's train a tabular learner with these hyperparameters for a few cycles using fit one cycle using the discovered learning rate"
   ]
  },
  {
   "cell_type": "code",
   "execution_count": 17,
   "metadata": {
    "execution": {
     "iopub.execute_input": "2021-03-02T23:18:16.489155Z",
     "iopub.status.busy": "2021-03-02T23:18:16.487993Z",
     "iopub.status.idle": "2021-03-02T23:18:16.531788Z",
     "shell.execute_reply": "2021-03-02T23:18:16.531321Z"
    },
    "papermill": {
     "duration": 0.087977,
     "end_time": "2021-03-02T23:18:16.531919",
     "exception": false,
     "start_time": "2021-03-02T23:18:16.443942",
     "status": "completed"
    },
    "tags": []
   },
   "outputs": [],
   "source": [
    "config = tabular_config(embed_p=float(0.118),\n",
    "                          ps=float(0.08398))\n",
    "layers = [172,198]\n",
    "dls = to.dataloaders(bs=bs)\n",
    "learn = tabular_learner(dls, layers=layers, metrics=RocAucBinary(), config = config)\n"
   ]
  },
  {
   "cell_type": "markdown",
   "metadata": {
    "papermill": {
     "duration": 0.03944,
     "end_time": "2021-03-02T23:18:16.611582",
     "exception": false,
     "start_time": "2021-03-02T23:18:16.572142",
     "status": "completed"
    },
    "tags": []
   },
   "source": [
    "Let's see if the learning rate finder's estimation for the learning rate matches what we found using the bayesian hyperparameter search"
   ]
  },
  {
   "cell_type": "code",
   "execution_count": 18,
   "metadata": {
    "execution": {
     "iopub.execute_input": "2021-03-02T23:18:16.698680Z",
     "iopub.status.busy": "2021-03-02T23:18:16.697858Z",
     "iopub.status.idle": "2021-03-02T23:18:22.562044Z",
     "shell.execute_reply": "2021-03-02T23:18:22.561600Z"
    },
    "papermill": {
     "duration": 5.911355,
     "end_time": "2021-03-02T23:18:22.562174",
     "exception": false,
     "start_time": "2021-03-02T23:18:16.650819",
     "status": "completed"
    },
    "tags": []
   },
   "outputs": [
    {
     "data": {
      "text/html": [],
      "text/plain": [
       "<IPython.core.display.HTML object>"
      ]
     },
     "metadata": {},
     "output_type": "display_data"
    },
    {
     "data": {
      "text/plain": [
       "SuggestedLRs(lr_min=0.010000000149011612, lr_steep=3.6307804584503174)"
      ]
     },
     "execution_count": 18,
     "metadata": {},
     "output_type": "execute_result"
    },
    {
     "data": {
      "image/png": "[encoded data removed]",
      "text/plain": [
       "<Figure size 432x288 with 1 Axes>"
      ]
     },
     "metadata": {
      "needs_background": "light"
     },
     "output_type": "display_data"
    }
   ],
   "source": [
    "learn.lr_find(stop_div=False, num_it=200)\n"
   ]
  },
  {
   "cell_type": "markdown",
   "metadata": {
    "papermill": {
     "duration": 0.040268,
     "end_time": "2021-03-02T23:18:22.644338",
     "exception": false,
     "start_time": "2021-03-02T23:18:22.604070",
     "status": "completed"
    },
    "tags": []
   },
   "source": [
    "They don't particularly agree. However, in this case I will go with what we found in the hyperparamter search. I prefer not to risk going with too large a learning rate as it could risk overstepping global minima and bouncing around in the parameter space."
   ]
  },
  {
   "cell_type": "code",
   "execution_count": 19,
   "metadata": {
    "execution": {
     "iopub.execute_input": "2021-03-02T23:18:22.729362Z",
     "iopub.status.busy": "2021-03-02T23:18:22.728868Z",
     "iopub.status.idle": "2021-03-02T23:18:52.315569Z",
     "shell.execute_reply": "2021-03-02T23:18:52.315093Z"
    },
    "papermill": {
     "duration": 29.630964,
     "end_time": "2021-03-02T23:18:52.315702",
     "exception": false,
     "start_time": "2021-03-02T23:18:22.684738",
     "status": "completed"
    },
    "tags": []
   },
   "outputs": [
    {
     "data": {
      "text/html": [
       "<table border=\"1\" class=\"dataframe\">\n",
       "  <thead>\n",
       "    <tr style=\"text-align: left;\">\n",
       "      <th>epoch</th>\n",
       "      <th>train_loss</th>\n",
       "      <th>valid_loss</th>\n",
       "      <th>roc_auc_score</th>\n",
       "      <th>time</th>\n",
       "    </tr>\n",
       "  </thead>\n",
       "  <tbody>\n",
       "    <tr>\n",
       "      <td>0</td>\n",
       "      <td>0.406316</td>\n",
       "      <td>0.358901</td>\n",
       "      <td>0.885283</td>\n",
       "      <td>00:03</td>\n",
       "    </tr>\n",
       "    <tr>\n",
       "      <td>1</td>\n",
       "      <td>0.365541</td>\n",
       "      <td>0.356479</td>\n",
       "      <td>0.886565</td>\n",
       "      <td>00:02</td>\n",
       "    </tr>\n",
       "    <tr>\n",
       "      <td>2</td>\n",
       "      <td>0.358712</td>\n",
       "      <td>0.353471</td>\n",
       "      <td>0.887835</td>\n",
       "      <td>00:02</td>\n",
       "    </tr>\n",
       "    <tr>\n",
       "      <td>3</td>\n",
       "      <td>0.354123</td>\n",
       "      <td>0.352486</td>\n",
       "      <td>0.888256</td>\n",
       "      <td>00:02</td>\n",
       "    </tr>\n",
       "    <tr>\n",
       "      <td>4</td>\n",
       "      <td>0.351733</td>\n",
       "      <td>0.352626</td>\n",
       "      <td>0.889422</td>\n",
       "      <td>00:03</td>\n",
       "    </tr>\n",
       "    <tr>\n",
       "      <td>5</td>\n",
       "      <td>0.349477</td>\n",
       "      <td>0.351152</td>\n",
       "      <td>0.889622</td>\n",
       "      <td>00:02</td>\n",
       "    </tr>\n",
       "    <tr>\n",
       "      <td>6</td>\n",
       "      <td>0.346552</td>\n",
       "      <td>0.350374</td>\n",
       "      <td>0.889890</td>\n",
       "      <td>00:02</td>\n",
       "    </tr>\n",
       "    <tr>\n",
       "      <td>7</td>\n",
       "      <td>0.342852</td>\n",
       "      <td>0.349759</td>\n",
       "      <td>0.890426</td>\n",
       "      <td>00:02</td>\n",
       "    </tr>\n",
       "    <tr>\n",
       "      <td>8</td>\n",
       "      <td>0.340346</td>\n",
       "      <td>0.349482</td>\n",
       "      <td>0.890526</td>\n",
       "      <td>00:03</td>\n",
       "    </tr>\n",
       "    <tr>\n",
       "      <td>9</td>\n",
       "      <td>0.339591</td>\n",
       "      <td>0.349477</td>\n",
       "      <td>0.890571</td>\n",
       "      <td>00:03</td>\n",
       "    </tr>\n",
       "  </tbody>\n",
       "</table>"
      ],
      "text/plain": [
       "<IPython.core.display.HTML object>"
      ]
     },
     "metadata": {},
     "output_type": "display_data"
    }
   ],
   "source": [
    "learn.fit_one_cycle(10,  0.001991)\n"
   ]
  },
  {
   "cell_type": "markdown",
   "metadata": {
    "papermill": {
     "duration": 0.041507,
     "end_time": "2021-03-02T23:18:52.399621",
     "exception": false,
     "start_time": "2021-03-02T23:18:52.358114",
     "status": "completed"
    },
    "tags": []
   },
   "source": [
    "Get the list of ids from the test set and subset the test_ dataframe for prediction with the trained tabular learner"
   ]
  },
  {
   "cell_type": "code",
   "execution_count": 20,
   "metadata": {
    "execution": {
     "iopub.execute_input": "2021-03-02T23:18:52.519579Z",
     "iopub.status.busy": "2021-03-02T23:18:52.518809Z",
     "iopub.status.idle": "2021-03-02T23:18:52.521733Z",
     "shell.execute_reply": "2021-03-02T23:18:52.521325Z"
    },
    "papermill": {
     "duration": 0.080494,
     "end_time": "2021-03-02T23:18:52.521848",
     "exception": false,
     "start_time": "2021-03-02T23:18:52.441354",
     "status": "completed"
    },
    "tags": []
   },
   "outputs": [],
   "source": [
    "test_df = test_[['cat0', 'cat1', 'cat2', 'cat3', 'cat4', 'cat5', 'cat6', 'cat7', 'cat8', 'cat9', 'cat10', 'cat11', 'cat12', 'cat13', 'cat14', 'cat15', 'cat16', 'cat17', 'cat18', 'cont0', 'cont1', 'cont2', 'cont3', 'cont4', 'cont5', 'cont6', 'cont7', 'cont8', 'cont9', 'cont10']]"
   ]
  },
  {
   "cell_type": "code",
   "execution_count": 21,
   "metadata": {
    "execution": {
     "iopub.execute_input": "2021-03-02T23:18:52.617477Z",
     "iopub.status.busy": "2021-03-02T23:18:52.616749Z",
     "iopub.status.idle": "2021-03-02T23:18:52.618981Z",
     "shell.execute_reply": "2021-03-02T23:18:52.619491Z"
    },
    "papermill": {
     "duration": 0.055837,
     "end_time": "2021-03-02T23:18:52.619620",
     "exception": false,
     "start_time": "2021-03-02T23:18:52.563783",
     "status": "completed"
    },
    "tags": []
   },
   "outputs": [],
   "source": [
    "ids = test_.id.to_list()"
   ]
  },
  {
   "cell_type": "code",
   "execution_count": 22,
   "metadata": {
    "execution": {
     "iopub.execute_input": "2021-03-02T23:18:52.746341Z",
     "iopub.status.busy": "2021-03-02T23:18:52.745178Z",
     "iopub.status.idle": "2021-03-02T23:18:53.986026Z",
     "shell.execute_reply": "2021-03-02T23:18:53.985537Z"
    },
    "papermill": {
     "duration": 1.324775,
     "end_time": "2021-03-02T23:18:53.986146",
     "exception": false,
     "start_time": "2021-03-02T23:18:52.661371",
     "status": "completed"
    },
    "tags": []
   },
   "outputs": [
    {
     "data": {
      "text/html": [],
      "text/plain": [
       "<IPython.core.display.HTML object>"
      ]
     },
     "metadata": {},
     "output_type": "display_data"
    }
   ],
   "source": [
    "dl = learn.dls.test_dl(test_df)\n",
    "results = learn.get_preds(dl=dl)"
   ]
  },
  {
   "cell_type": "code",
   "execution_count": 23,
   "metadata": {
    "execution": {
     "iopub.execute_input": "2021-03-02T23:18:54.086484Z",
     "iopub.status.busy": "2021-03-02T23:18:54.085675Z",
     "iopub.status.idle": "2021-03-02T23:19:05.575939Z",
     "shell.execute_reply": "2021-03-02T23:19:05.574623Z"
    },
    "papermill": {
     "duration": 11.546698,
     "end_time": "2021-03-02T23:19:05.576072",
     "exception": false,
     "start_time": "2021-03-02T23:18:54.029374",
     "status": "completed"
    },
    "tags": []
   },
   "outputs": [],
   "source": [
    "predictions = []\n",
    "for i in range(200000):\n",
    "    predictions.append(int(np.argmax(results[0][i])))\n",
    "\n",
    "    \n",
    "    "
   ]
  },
  {
   "cell_type": "markdown",
   "metadata": {
    "papermill": {
     "duration": 0.042117,
     "end_time": "2021-03-02T23:19:05.661141",
     "exception": false,
     "start_time": "2021-03-02T23:19:05.619024",
     "status": "completed"
    },
    "tags": []
   },
   "source": [
    "Create the submission data set "
   ]
  },
  {
   "cell_type": "code",
   "execution_count": 24,
   "metadata": {
    "execution": {
     "iopub.execute_input": "2021-03-02T23:19:05.764391Z",
     "iopub.status.busy": "2021-03-02T23:19:05.750547Z",
     "iopub.status.idle": "2021-03-02T23:19:06.450966Z",
     "shell.execute_reply": "2021-03-02T23:19:06.450507Z"
    },
    "papermill": {
     "duration": 0.747756,
     "end_time": "2021-03-02T23:19:06.451095",
     "exception": false,
     "start_time": "2021-03-02T23:19:05.703339",
     "status": "completed"
    },
    "tags": []
   },
   "outputs": [],
   "source": [
    "resultf = pd.DataFrame()\n",
    "resultf['id'] = ids\n",
    "resultf['target'] = predictions\n",
    "resultf.to_csv('submission.csv', index=False)"
   ]
  },
  {
   "cell_type": "code",
   "execution_count": 25,
   "metadata": {
    "execution": {
     "iopub.execute_input": "2021-03-02T23:19:06.546752Z",
     "iopub.status.busy": "2021-03-02T23:19:06.546225Z",
     "iopub.status.idle": "2021-03-02T23:19:06.553718Z",
     "shell.execute_reply": "2021-03-02T23:19:06.553199Z"
    },
    "papermill": {
     "duration": 0.060127,
     "end_time": "2021-03-02T23:19:06.553821",
     "exception": false,
     "start_time": "2021-03-02T23:19:06.493694",
     "status": "completed"
    },
    "tags": []
   },
   "outputs": [
    {
     "data": {
      "text/html": [
       "<div>\n",
       "<style scoped>\n",
       "    .dataframe tbody tr th:only-of-type {\n",
       "        vertical-align: middle;\n",
       "    }\n",
       "\n",
       "    .dataframe tbody tr th {\n",
       "        vertical-align: top;\n",
       "    }\n",
       "\n",
       "    .dataframe thead th {\n",
       "        text-align: right;\n",
       "    }\n",
       "</style>\n",
       "<table border=\"1\" class=\"dataframe\">\n",
       "  <thead>\n",
       "    <tr style=\"text-align: right;\">\n",
       "      <th></th>\n",
       "      <th>id</th>\n",
       "      <th>target</th>\n",
       "    </tr>\n",
       "  </thead>\n",
       "  <tbody>\n",
       "    <tr>\n",
       "      <th>0</th>\n",
       "      <td>5</td>\n",
       "      <td>0</td>\n",
       "    </tr>\n",
       "    <tr>\n",
       "      <th>1</th>\n",
       "      <td>6</td>\n",
       "      <td>0</td>\n",
       "    </tr>\n",
       "    <tr>\n",
       "      <th>2</th>\n",
       "      <td>8</td>\n",
       "      <td>0</td>\n",
       "    </tr>\n",
       "    <tr>\n",
       "      <th>3</th>\n",
       "      <td>9</td>\n",
       "      <td>0</td>\n",
       "    </tr>\n",
       "    <tr>\n",
       "      <th>4</th>\n",
       "      <td>11</td>\n",
       "      <td>0</td>\n",
       "    </tr>\n",
       "    <tr>\n",
       "      <th>...</th>\n",
       "      <td>...</td>\n",
       "      <td>...</td>\n",
       "    </tr>\n",
       "    <tr>\n",
       "      <th>199995</th>\n",
       "      <td>499983</td>\n",
       "      <td>1</td>\n",
       "    </tr>\n",
       "    <tr>\n",
       "      <th>199996</th>\n",
       "      <td>499984</td>\n",
       "      <td>0</td>\n",
       "    </tr>\n",
       "    <tr>\n",
       "      <th>199997</th>\n",
       "      <td>499987</td>\n",
       "      <td>1</td>\n",
       "    </tr>\n",
       "    <tr>\n",
       "      <th>199998</th>\n",
       "      <td>499994</td>\n",
       "      <td>0</td>\n",
       "    </tr>\n",
       "    <tr>\n",
       "      <th>199999</th>\n",
       "      <td>499998</td>\n",
       "      <td>1</td>\n",
       "    </tr>\n",
       "  </tbody>\n",
       "</table>\n",
       "<p>200000 rows × 2 columns</p>\n",
       "</div>"
      ],
      "text/plain": [
       "            id  target\n",
       "0            5       0\n",
       "1            6       0\n",
       "2            8       0\n",
       "3            9       0\n",
       "4           11       0\n",
       "...        ...     ...\n",
       "199995  499983       1\n",
       "199996  499984       0\n",
       "199997  499987       1\n",
       "199998  499994       0\n",
       "199999  499998       1\n",
       "\n",
       "[200000 rows x 2 columns]"
      ]
     },
     "execution_count": 25,
     "metadata": {},
     "output_type": "execute_result"
    }
   ],
   "source": [
    "resultf"
   ]
  },
  {
   "cell_type": "markdown",
   "metadata": {
    "papermill": {
     "duration": 0.042598,
     "end_time": "2021-03-02T23:19:06.640050",
     "exception": false,
     "start_time": "2021-03-02T23:19:06.597452",
     "status": "completed"
    },
    "tags": []
   },
   "source": [
    "Some useful links:\n",
    "Zachary Mueller's code:\n",
    "https://github.com/muellerzr/Practical-Deep-Learning-for-Coders-2.0/blob/master/Tabular%20Notebooks/02_Bayesian_Optimization.ipynb\n",
    "\n",
    "Jeremy Howard's lesson:\n",
    "https://course.fast.ai/videos/?lesson=7\n",
    "\n",
    "Bayesian optimization framework used in this example:\n",
    "https://github.com/fmfn/BayesianOptimization[](http://)\n"
   ]
  }
 ],
 "metadata": {
  "kernelspec": {
   "display_name": "Python 3",
   "language": "python",
   "name": "python3"
  },
  "language_info": {
   "codemirror_mode": {
    "name": "ipython",
    "version": 3
   },
   "file_extension": ".py",
   "mimetype": "text/x-python",
   "name": "python",
   "nbconvert_exporter": "python",
   "pygments_lexer": "ipython3",
   "version": "3.7.9"
  },
  "papermill": {
   "default_parameters": {},
   "duration": 295.778647,
   "end_time": "2021-03-02T23:19:08.573044",
   "environment_variables": {},
   "exception": null,
   "input_path": "__notebook__.ipynb",
   "output_path": "__notebook__.ipynb",
   "parameters": {},
   "start_time": "2021-03-02T23:14:12.794397",
   "version": "2.2.2"
  }
 },
 "nbformat": 4,
 "nbformat_minor": 4
}
